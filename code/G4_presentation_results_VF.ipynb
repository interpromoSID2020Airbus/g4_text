{
 "cells": [
  {
   "cell_type": "markdown",
   "metadata": {},
   "source": [
    "    Created on 17 January 2020\n",
    "    Group 4\n",
    "    Authors : G4"
   ]
  },
  {
   "cell_type": "markdown",
   "metadata": {
    "toc": true
   },
   "source": [
    "<h1>Table of Contents<span class=\"tocSkip\"></span></h1>\n",
    "<div class=\"toc\"><ul class=\"toc-item\"><li><span><a href=\"#Introduction\" data-toc-modified-id=\"Introduction-1\"><span class=\"toc-item-num\">1&nbsp;&nbsp;</span>Introduction</a></span></li><li><span><a href=\"#Environment\" data-toc-modified-id=\"Environment-2\"><span class=\"toc-item-num\">2&nbsp;&nbsp;</span>Environment</a></span><ul class=\"toc-item\"><li><span><a href=\"#Librairies\" data-toc-modified-id=\"Librairies-2.1\"><span class=\"toc-item-num\">2.1&nbsp;&nbsp;</span>Librairies</a></span></li><li><span><a href=\"#Data-loading\" data-toc-modified-id=\"Data-loading-2.2\"><span class=\"toc-item-num\">2.2&nbsp;&nbsp;</span>Data loading</a></span><ul class=\"toc-item\"><li><span><a href=\"#Opinion\" data-toc-modified-id=\"Opinion-2.2.1\"><span class=\"toc-item-num\">2.2.1&nbsp;&nbsp;</span>Opinion</a></span></li><li><span><a href=\"#Facet\" data-toc-modified-id=\"Facet-2.2.2\"><span class=\"toc-item-num\">2.2.2&nbsp;&nbsp;</span>Facet</a></span></li><li><span><a href=\"#Final-result\" data-toc-modified-id=\"Final-result-2.2.3\"><span class=\"toc-item-num\">2.2.3&nbsp;&nbsp;</span>Final result</a></span></li></ul></li></ul></li><li><span><a href=\"#Evaluation\" data-toc-modified-id=\"Evaluation-3\"><span class=\"toc-item-num\">3&nbsp;&nbsp;</span>Evaluation</a></span><ul class=\"toc-item\"><li><span><a href=\"#Clustering\" data-toc-modified-id=\"Clustering-3.1\"><span class=\"toc-item-num\">3.1&nbsp;&nbsp;</span>Clustering</a></span></li><li><span><a href=\"#Classification\" data-toc-modified-id=\"Classification-3.2\"><span class=\"toc-item-num\">3.2&nbsp;&nbsp;</span>Classification</a></span></li></ul></li><li><span><a href=\"#Opinion-analysis\" data-toc-modified-id=\"Opinion-analysis-4\"><span class=\"toc-item-num\">4&nbsp;&nbsp;</span>Opinion analysis</a></span></li><li><span><a href=\"#Facet-research\" data-toc-modified-id=\"Facet-research-5\"><span class=\"toc-item-num\">5&nbsp;&nbsp;</span>Facet research</a></span><ul class=\"toc-item\"><li><span><a href=\"#How-we-chose-the-most-relevant-words-for-each-facet\" data-toc-modified-id=\"How-we-chose-the-most-relevant-words-for-each-facet-5.1\"><span class=\"toc-item-num\">5.1&nbsp;&nbsp;</span>How we chose the most relevant words for each facet</a></span></li><li><span><a href=\"#TF-IDF\" data-toc-modified-id=\"TF-IDF-5.2\"><span class=\"toc-item-num\">5.2&nbsp;&nbsp;</span>TF-IDF</a></span><ul class=\"toc-item\"><li><span><a href=\"#Kmeans++\" data-toc-modified-id=\"Kmeans++-5.2.1\"><span class=\"toc-item-num\">5.2.1&nbsp;&nbsp;</span>Kmeans++</a></span></li><li><span><a href=\"#LDA\" data-toc-modified-id=\"LDA-5.2.2\"><span class=\"toc-item-num\">5.2.2&nbsp;&nbsp;</span>LDA</a></span></li><li><span><a href=\"#Classification\" data-toc-modified-id=\"Classification-5.2.3\"><span class=\"toc-item-num\">5.2.3&nbsp;&nbsp;</span>Classification</a></span></li><li><span><a href=\"#Supervised-method-(test)\" data-toc-modified-id=\"Supervised-method-(test)-5.2.4\"><span class=\"toc-item-num\">5.2.4&nbsp;&nbsp;</span>Supervised method (test)</a></span></li></ul></li><li><span><a href=\"#Word-Embedding\" data-toc-modified-id=\"Word-Embedding-5.3\"><span class=\"toc-item-num\">5.3&nbsp;&nbsp;</span>Word Embedding</a></span><ul class=\"toc-item\"><li><span><a href=\"#Kmeans\" data-toc-modified-id=\"Kmeans-5.3.1\"><span class=\"toc-item-num\">5.3.1&nbsp;&nbsp;</span>Kmeans</a></span></li></ul></li><li><span><a href=\"#Weighted-Word-Embedding\" data-toc-modified-id=\"Weighted-Word-Embedding-5.4\"><span class=\"toc-item-num\">5.4&nbsp;&nbsp;</span>Weighted Word Embedding</a></span></li></ul></li><li><span><a href=\"#Prediction-of-opinion-per-facet\" data-toc-modified-id=\"Prediction-of-opinion-per-facet-6\"><span class=\"toc-item-num\">6&nbsp;&nbsp;</span>Prediction of opinion per facet</a></span></li><li><span><a href=\"#Named-entity-research\" data-toc-modified-id=\"Named-entity-research-7\"><span class=\"toc-item-num\">7&nbsp;&nbsp;</span>Named entity research</a></span></li><li><span><a href=\"#Ideas-of-development\" data-toc-modified-id=\"Ideas-of-development-8\"><span class=\"toc-item-num\">8&nbsp;&nbsp;</span>Ideas of development</a></span><ul class=\"toc-item\"><li><span><a href=\"#Preprocessing\" data-toc-modified-id=\"Preprocessing-8.1\"><span class=\"toc-item-num\">8.1&nbsp;&nbsp;</span>Preprocessing</a></span></li><li><span><a href=\"#Opinion-analysis\" data-toc-modified-id=\"Opinion-analysis-8.2\"><span class=\"toc-item-num\">8.2&nbsp;&nbsp;</span>Opinion analysis</a></span></li><li><span><a href=\"#Named-entity-research\" data-toc-modified-id=\"Named-entity-research-8.3\"><span class=\"toc-item-num\">8.3&nbsp;&nbsp;</span>Named entity research</a></span></li><li><span><a href=\"#Facet-research\" data-toc-modified-id=\"Facet-research-8.4\"><span class=\"toc-item-num\">8.4&nbsp;&nbsp;</span>Facet research</a></span></li><li><span><a href=\"#Opinion-per-facet\" data-toc-modified-id=\"Opinion-per-facet-8.5\"><span class=\"toc-item-num\">8.5&nbsp;&nbsp;</span>Opinion per facet</a></span></li></ul></li></ul></div>"
   ]
  },
  {
   "cell_type": "markdown",
   "metadata": {},
   "source": [
    " "
   ]
  },
  {
   "cell_type": "markdown",
   "metadata": {},
   "source": [
    "# Introduction"
   ]
  },
  {
   "cell_type": "markdown",
   "metadata": {},
   "source": [
    "During this project we used reviews scrapped from online sites. We had to perform:\n",
    "<ul>\n",
    "    <li>Named entity research</li>\n",
    "    <li>Opinion/Sentiment Analysis</li>\n",
    "    <li>Facet Research</li>\n",
    "</ul>\n",
    "With the final objective to predict an opinion for each facet found.<br>\n",
    "The named entity research (NER) was an additionnal task not as important as the other two. <br>\n",
    "For opinions we decided to simply predict if the review was negative, neutral or positive. <br> \n",
    "We defined a new list of facets as aggregation of the labels given.\n",
    "<ul>\n",
    "    <li>baggage_facet</li>\n",
    "    <li>atmosphere_facet</li>\n",
    "    <li>cabin_crew_facet</li>\n",
    "    <li>comfort_facet</li>\n",
    "    <li>food_facet</li>\n",
    "    <li>not_flight_facet</li>\n",
    "    <li>price_facet</li>\n",
    "    <li>punctuality_facet</li>\n",
    "    <li>empty_facet</li>\n",
    "</ul>\n",
    "Also we didn't use the labels: 'LABEL_ATTRACTIVE AIRCRAFT' and 'LABEL_GENERAL' as they seemed too subjective to be well predicted."
   ]
  },
  {
   "cell_type": "markdown",
   "metadata": {},
   "source": [
    "This notebook will present the results of the different tasks we had to do. It relies on 2 notebooks for the preprocessing, we won't launch those scripts as they are long to finish but they are presented in the notebook <b>G4_Presentation_preprocessing</b>. <br>\n",
    "We also use 2 notebooks in which we have defined functions, one for each activity. Those functions return the results of the methods we used, such as metrics or predictive models."
   ]
  },
  {
   "cell_type": "markdown",
   "metadata": {},
   "source": [
    " <b>Highligths</b>\n",
    " <ul>\n",
    "    <li>Opinion analysis best's result with Deep Learning accuracy score 0.95</li>\n",
    "    <li>Best result with tf-idf in both tasks</li>\n",
    "    <li>K means++ with 0.84 % accuracy score for Facet research </li>\n",
    "<ul>"
   ]
  },
  {
   "cell_type": "markdown",
   "metadata": {},
   "source": [
    "# Environment"
   ]
  },
  {
   "cell_type": "markdown",
   "metadata": {},
   "source": [
    "## Librairies"
   ]
  },
  {
   "cell_type": "code",
   "execution_count": 24,
   "metadata": {},
   "outputs": [],
   "source": [
    "%run G4_opinion_functions_VF.ipynb\n",
    "%run G4_facet_functions_VF.ipynb"
   ]
  },
  {
   "cell_type": "markdown",
   "metadata": {},
   "source": [
    "## Data loading"
   ]
  },
  {
   "cell_type": "markdown",
   "metadata": {},
   "source": [
    "From the data given by Sogeclair and Airbus we used the dataset ALL_DATA_ANNOTATE, ALL_DATA, OTHER_DATA and TWITTER. We also used a dataset scrapped by the group 1, dataAirlineComplet. <br>\n",
    "We mainly used the text columns to develop our methodes. "
   ]
  },
  {
   "cell_type": "markdown",
   "metadata": {},
   "source": [
    "The preprocessing of sentiment analysis is different of the facet's one because we need to keep usual words that are very relevant to predict one's sentiment.<br>\n",
    "For example the negation words such as \"not\" or \"n't\" and the linking words \"however\", \"also\", \"thus\" would be deleted in the preprocessing and then lead to underperform. <br>\n",
    "That's why we tried to use both in our models to confirm the hypothesis and saw that nearly-raw data (tokenize/pad sentences) gave the best results.<br>\n",
    "In facets, we contrariwise needed to find a way to sum up the sentences with relevant words.<br>\n",
    "The preprocessing was more relevant in this case and gave optimal results compared to raw data."
   ]
  },
  {
   "cell_type": "markdown",
   "metadata": {},
   "source": [
    "We present how to call our functions in <b>G4_presentation_preprocessing_VF.ipynb</b>. <br>\n",
    "We tried the tf-idf function onthe 150000 rows of ALL_DATA, it took less than 2 hours to perform but needed a RAM of 180 Go."
   ]
  },
  {
   "cell_type": "markdown",
   "metadata": {},
   "source": [
    "### Opinion"
   ]
  },
  {
   "cell_type": "code",
   "execution_count": 2,
   "metadata": {},
   "outputs": [],
   "source": [
    "# Clean data\n",
    "data = import_data(\"data_clean_all_data_annotate\")\n",
    "label = import_data(\"label_clean_all_data_annotate\")\n",
    "y_test = import_data(\"y_test_all_data_annotate\")\n",
    "y_train = import_data(\"y_train_all_data_annotate\")\n",
    "X_train = import_data(\"tf_idf_train_all_data_annotate\")\n",
    "X_test = import_data(\"tf_idf_test_all_data_annotate\")\n",
    "\n",
    "# Data Deep Learning\n",
    "y_test_neural_network = import_data(\"y_test_neural_network\")\n",
    "y_train_neural_network = import_data(\"y_train_neural_network\")\n",
    "X_train_neural_network = import_data(\"X_train_neural_network\")\n",
    "X_test_neural_network = import_data(\"X_test_neural_network\")\n",
    "X_pred_neural_network = import_data(\"X_pred_neural_network\")"
   ]
  },
  {
   "cell_type": "markdown",
   "metadata": {},
   "source": [
    "### Facet"
   ]
  },
  {
   "cell_type": "markdown",
   "metadata": {},
   "source": [
    "Tf-idf"
   ]
  },
  {
   "cell_type": "code",
   "execution_count": 3,
   "metadata": {},
   "outputs": [],
   "source": [
    "tf_idf = pd.read_csv('../data/g4_tfidf_ALL_DATA_ANNOTATE.csv', index_col=0)\n",
    "reference_file = pd.read_csv('../data/ALL_DATA_ANNOTATE_new_facets.csv', index_col=0)"
   ]
  },
  {
   "cell_type": "markdown",
   "metadata": {},
   "source": [
    "Embeddings"
   ]
  },
  {
   "cell_type": "code",
   "execution_count": 4,
   "metadata": {},
   "outputs": [
    {
     "name": "stderr",
     "output_type": "stream",
     "text": [
      "/home/cmi-sid/anaconda3/lib/python3.7/site-packages/IPython/core/interactiveshell.py:2785: DtypeWarning: Columns (1) have mixed types. Specify dtype option on import or set low_memory=False.\n",
      "  interactivity=interactivity, compiler=compiler, result=result)\n"
     ]
    }
   ],
   "source": [
    "embedding = pd.read_csv('../data/g4_embedding_ALL_DATA_ANNOTATE.csv', index_col=0)"
   ]
  },
  {
   "cell_type": "markdown",
   "metadata": {},
   "source": [
    "Weighted embeddings"
   ]
  },
  {
   "cell_type": "code",
   "execution_count": 5,
   "metadata": {},
   "outputs": [],
   "source": [
    "weight_embedding = pd.read_csv('../data/g4_weight_embedding_ALL_DATA_ANNOTATE.csv', index_col=1)\n",
    "weight_embedding = weight_embedding.iloc[:, 1:]"
   ]
  },
  {
   "cell_type": "markdown",
   "metadata": {},
   "source": [
    "### Final result"
   ]
  },
  {
   "cell_type": "code",
   "execution_count": 6,
   "metadata": {},
   "outputs": [],
   "source": [
    "final_data = import_data(\"airline_qual_sentence_1000\")"
   ]
  },
  {
   "cell_type": "markdown",
   "metadata": {},
   "source": [
    "# Evaluation"
   ]
  },
  {
   "cell_type": "markdown",
   "metadata": {},
   "source": [
    "## Clustering"
   ]
  },
  {
   "cell_type": "markdown",
   "metadata": {},
   "source": [
    "We used 3 ways of clustering evaluation:\n",
    "<ul>\n",
    "    <li>Internal evaluation, that assesses the quality of the cluster based on the data itself</li>\n",
    "    <li>External evaluation, that assesses the quality of clusters based on given truth such as labels</li>\n",
    "    <li>Annotation evaluation, that assesses the quality of the label we gave to the different clusters</li>\n",
    "</ul>"
   ]
  },
  {
   "cell_type": "markdown",
   "metadata": {},
   "source": [
    "<b>Silhouette Coefficient for internal evaluation:</b> <br>\n",
    "The Silhouette Coefficient is calculated using the mean intra-cluster distance (a) and the mean nearest-cluster distance (b) for each sample.\n",
    "The Silhouette Coefficient for a sample is $\\frac{b - a}{max(a,b)}$. To clarify, b is the distance between a sample and the nearest cluster that the sample is not a part of.<br>\n",
    "Note that Silhouette Coefficient is only defined if number of labels is $2 <= n\\_labels <= n\\_samples - 1$.<br>\n",
    "Our function returns the mean Silhouette Coefficient over all samples. To obtain the values for each sample, use silhouette_samples.<br>\n",
    "The best value is 1 and the worst value is -1. Values near 0 indicate overlapping clusters.\n",
    "Negative values generally indicate that a sample has been assigned to the wrong cluster, as a different cluster is more similar.<br>"
   ]
  },
  {
   "cell_type": "markdown",
   "metadata": {},
   "source": [
    "<b>Purity_score :</b>\n",
    "The purity score calculates the sum of the maximum of each line / the sum of the eigenvalues of the confusion matrix. <br>\n",
    "We use the following formula: $$\\frac{np.sum (np.amax (contingency\\_matrix, axis = 0))}{np.sum (contingency\\_matrix)}$$ <br>\n",
    "More purity_score is close to 1 more the result will be better."
   ]
  },
  {
   "cell_type": "markdown",
   "metadata": {},
   "source": [
    "<b>Purity score for external evaluation:</b> \n",
    "For each cluster, count the number of data points from the most common class in said cluster. Now take the sum over all clusters and divide by the total number of data points. Formally, given some set of clusters ${\\displaystyle M}$ and some set of classes ${\\displaystyle D}$, both partitioning ${\\displaystyle N}$ data points, purity can be defined as:  $$\\frac{1}{N}\\sum \\limits_{m\\in M}  \\max_{d\\in D} |m\\cap d |$$    \n",
    "The closer purity_score is to 1, better the result."
   ]
  },
  {
   "cell_type": "markdown",
   "metadata": {},
   "source": [
    "<b>Accuracy score for annotation evaluation:</b>\n",
    "In multilabel classification, this function computes subset accuracy : the set of labels predicted for a sample must exactly match the corresponding set of labels in y_true. <br>"
   ]
  },
  {
   "cell_type": "markdown",
   "metadata": {},
   "source": [
    "## Classification"
   ]
  },
  {
   "cell_type": "markdown",
   "metadata": {},
   "source": [
    "<b>Confusion Matrix :</b>\n",
    "The confusion matrix is a squared matrix with label_predict on one side and label_true on the other. On a sample, we indicate the number of corresponding labels between label_true and label_pred as follows :\n",
    "$$\\begin{matrix}  & 1 & 0 \\\\ 1 &  True_{positive} & False_{positive} \\\\ 0 & False_{negative} & True_{negative}\\end{matrix}$$"
   ]
  },
  {
   "cell_type": "markdown",
   "metadata": {},
   "source": [
    "<b>Accuracy score :</b>\n",
    "In multilabel classification, this function computes subset accuracy : the set of labels predicted for a sample must exactly match the corresponding set of labels in y_true. <br>"
   ]
  },
  {
   "cell_type": "markdown",
   "metadata": {},
   "source": [
    "<b>F mesure :</b>\n",
    "The F1 score can be interpreted as a weighted average of the precision and recall, where an F1 score reaches its best value at 1 and worst score at 0. The relative contribution of precision and recall to the F1 score are equal. The formula for the F1 score is :\n",
    "$$F1 = \\frac{2 * precision * recall}{precision + recall}$$<br>"
   ]
  },
  {
   "cell_type": "markdown",
   "metadata": {},
   "source": [
    "# Opinion analysis"
   ]
  },
  {
   "cell_type": "markdown",
   "metadata": {},
   "source": [
    "We mainly performed supervised methods for this task. To create the target we used the annotations given to documents, be it sentences or comments. For each Labels the documents were annotated from 0 to 2 where :\n",
    "<ul>\n",
    "    <li>0 is negative</li>\n",
    "    <li>1 positive</li>\n",
    "    <li>2 very positive</li>\n",
    "    <li>NaN if it wasn't about the label</li>\n",
    "</ul>\n",
    "We rescaled from -1 to 1, where :\n",
    "<ul>\n",
    "    <li>-1 is negative</li>\n",
    "    <li>0 neutral</li>\n",
    "    <li>1 positive</li>\n",
    "</ul>\n",
    "Then for all documents we summed all the annotations of the different Labels to get the general opinion. We rounded it to be a classification problem. "
   ]
  },
  {
   "cell_type": "code",
   "execution_count": 7,
   "metadata": {},
   "outputs": [],
   "source": [
    "y_train_neural_network.rename(columns = {'0':'-1', '1':'0', '2':'1'}, inplace = True)\n",
    "y_test_neural_network.rename(columns = {'0':'-1', '1':'0', '2':'1'}, inplace = True)"
   ]
  },
  {
   "cell_type": "code",
   "execution_count": 8,
   "metadata": {},
   "outputs": [],
   "source": [
    "classification_model = [Logistic_Regression(X_train, y_train['0'], X_test, penalty='l2', solver='lbfgs', multi_class='auto', max_iter=100), Random_Forest(X_train, y_train['0'], X_test, 100, None), SGD(X_train, y_train['0'], X_test, loss='hinge', penalty='l2'), Gaussian_NB(X_train, y_train['0'], X_test, None),k_neighbors_classifier(X_train, y_train['0'], X_test, 3)]"
   ]
  },
  {
   "cell_type": "code",
   "execution_count": 9,
   "metadata": {},
   "outputs": [],
   "source": [
    "clustering_model = [K_Means(X_train, 3, 'auto', 'auto'),gaussian_mixture(X_train, 3),affinity_propagation(X_train),agglomerative_clustering(X_train),mean_shift(X_train, True)]"
   ]
  },
  {
   "cell_type": "code",
   "execution_count": 10,
   "metadata": {},
   "outputs": [],
   "source": [
    "metrix_classif = list()\n",
    "metrix_cluster = list()\n",
    "f_mesure = list()\n",
    "accuracy = list()\n",
    "confusion_matrix = list()\n",
    "for f in classification_model:\n",
    "    f_mesure.append(Classification_Metric(f, y_test['0'])[1])\n",
    "    accuracy.append(Classification_Metric(f, y_test['0'])[3])\n",
    "    confusion_matrix.append(Classification_Metric(f, y_test['0'])[5])"
   ]
  },
  {
   "cell_type": "code",
   "execution_count": 11,
   "metadata": {},
   "outputs": [],
   "source": [
    "tab_classification = pd.DataFrame()\n",
    "tab_classification[\"Classification Model\"] =  \"Logistic Regression\",\"Random Forest\", \"SGD\",\"Gaussian Naive Bayes\",\"KNN\"\n",
    "tab_classification[\"F mesure\"] = f_mesure\n",
    "tab_classification[\"Accuracy\"] = accuracy\n",
    "tab_classification[\"Confusion Matrix\"] = confusion_matrix"
   ]
  },
  {
   "cell_type": "code",
   "execution_count": 12,
   "metadata": {},
   "outputs": [],
   "source": [
    "purity=[]\n",
    "nb_cluster=[]\n",
    "for f in clustering_model:\n",
    "    purity.append(purity_score(y_train['0'], f))\n",
    "    nb_cluster.append(len(np.unique(f)))"
   ]
  },
  {
   "cell_type": "code",
   "execution_count": 13,
   "metadata": {},
   "outputs": [],
   "source": [
    "tab_clustering = pd.DataFrame()\n",
    "tab_clustering[\"Cluster Model\"] = \"K means\",\"Gaussian Mixture\",\"Affinity Propagation\",\"Agglomerative Clustering\",\"Mean Shift\"\n",
    "tab_clustering[\"Purity\"] = purity\n",
    "tab_clustering[\"Nb Cluster\"] = nb_cluster"
   ]
  },
  {
   "cell_type": "code",
   "execution_count": 14,
   "metadata": {},
   "outputs": [
    {
     "data": {
      "text/html": [
       "<div>\n",
       "<style scoped>\n",
       "    .dataframe tbody tr th:only-of-type {\n",
       "        vertical-align: middle;\n",
       "    }\n",
       "\n",
       "    .dataframe tbody tr th {\n",
       "        vertical-align: top;\n",
       "    }\n",
       "\n",
       "    .dataframe thead th {\n",
       "        text-align: right;\n",
       "    }\n",
       "</style>\n",
       "<table border=\"1\" class=\"dataframe\">\n",
       "  <thead>\n",
       "    <tr style=\"text-align: right;\">\n",
       "      <th></th>\n",
       "      <th>Classification Model</th>\n",
       "      <th>F mesure</th>\n",
       "      <th>Accuracy</th>\n",
       "      <th>Confusion Matrix</th>\n",
       "    </tr>\n",
       "  </thead>\n",
       "  <tbody>\n",
       "    <tr>\n",
       "      <th>0</th>\n",
       "      <td>Logistic Regression</td>\n",
       "      <td>0.871025</td>\n",
       "      <td>0.871025</td>\n",
       "      <td>[[542, 0, 133], [11, 0, 9], [66, 0, 937]]</td>\n",
       "    </tr>\n",
       "    <tr>\n",
       "      <th>1</th>\n",
       "      <td>Random Forest</td>\n",
       "      <td>0.862780</td>\n",
       "      <td>0.862780</td>\n",
       "      <td>[[519, 1, 155], [11, 0, 9], [57, 0, 946]]</td>\n",
       "    </tr>\n",
       "    <tr>\n",
       "      <th>2</th>\n",
       "      <td>SGD</td>\n",
       "      <td>0.866902</td>\n",
       "      <td>0.866902</td>\n",
       "      <td>[[556, 0, 119], [11, 0, 9], [87, 0, 916]]</td>\n",
       "    </tr>\n",
       "    <tr>\n",
       "      <th>3</th>\n",
       "      <td>Gaussian Naive Bayes</td>\n",
       "      <td>0.618375</td>\n",
       "      <td>0.618375</td>\n",
       "      <td>[[456, 43, 176], [11, 1, 8], [333, 77, 593]]</td>\n",
       "    </tr>\n",
       "    <tr>\n",
       "      <th>4</th>\n",
       "      <td>KNN</td>\n",
       "      <td>0.786808</td>\n",
       "      <td>0.786808</td>\n",
       "      <td>[[450, 0, 225], [8, 0, 12], [117, 0, 886]]</td>\n",
       "    </tr>\n",
       "  </tbody>\n",
       "</table>\n",
       "</div>"
      ],
      "text/plain": [
       "   Classification Model  F mesure  Accuracy  \\\n",
       "0   Logistic Regression  0.871025  0.871025   \n",
       "1         Random Forest  0.862780  0.862780   \n",
       "2                   SGD  0.866902  0.866902   \n",
       "3  Gaussian Naive Bayes  0.618375  0.618375   \n",
       "4                   KNN  0.786808  0.786808   \n",
       "\n",
       "                               Confusion Matrix  \n",
       "0     [[542, 0, 133], [11, 0, 9], [66, 0, 937]]  \n",
       "1     [[519, 1, 155], [11, 0, 9], [57, 0, 946]]  \n",
       "2     [[556, 0, 119], [11, 0, 9], [87, 0, 916]]  \n",
       "3  [[456, 43, 176], [11, 1, 8], [333, 77, 593]]  \n",
       "4    [[450, 0, 225], [8, 0, 12], [117, 0, 886]]  "
      ]
     },
     "execution_count": 14,
     "metadata": {},
     "output_type": "execute_result"
    }
   ],
   "source": [
    "tab_classification"
   ]
  },
  {
   "cell_type": "markdown",
   "metadata": {},
   "source": [
    "<b>Graph :</b>\n",
    "The silhouette_score graph allows to find the optimal number of clusters, this corresponds to the abscissa of the graph where the \"elbow\" is located.    \n",
    "Here, the optimal cluster is 3 : we see that the \"elbow\" is formed at this point.    \n",
    "The data is well clustered, the points of the same cluster are close to the center and far from other clusters."
   ]
  },
  {
   "cell_type": "code",
   "execution_count": 15,
   "metadata": {},
   "outputs": [
    {
     "data": {
      "image/png": "[encoded data removed]",
      "text/plain": [
       "<Figure size 432x288 with 1 Axes>"
      ]
     },
     "metadata": {
      "needs_background": "light"
     },
     "output_type": "display_data"
    }
   ],
   "source": [
    "silouhette_score_KMeans(3, X_train)"
   ]
  },
  {
   "cell_type": "code",
   "execution_count": 16,
   "metadata": {},
   "outputs": [
    {
     "data": {
      "text/html": [
       "<div>\n",
       "<style scoped>\n",
       "    .dataframe tbody tr th:only-of-type {\n",
       "        vertical-align: middle;\n",
       "    }\n",
       "\n",
       "    .dataframe tbody tr th {\n",
       "        vertical-align: top;\n",
       "    }\n",
       "\n",
       "    .dataframe thead th {\n",
       "        text-align: right;\n",
       "    }\n",
       "</style>\n",
       "<table border=\"1\" class=\"dataframe\">\n",
       "  <thead>\n",
       "    <tr style=\"text-align: right;\">\n",
       "      <th></th>\n",
       "      <th>Cluster Model</th>\n",
       "      <th>Purity</th>\n",
       "      <th>Nb Cluster</th>\n",
       "    </tr>\n",
       "  </thead>\n",
       "  <tbody>\n",
       "    <tr>\n",
       "      <th>0</th>\n",
       "      <td>K means</td>\n",
       "      <td>0.602525</td>\n",
       "      <td>3</td>\n",
       "    </tr>\n",
       "    <tr>\n",
       "      <th>1</th>\n",
       "      <td>Gaussian Mixture</td>\n",
       "      <td>0.611364</td>\n",
       "      <td>3</td>\n",
       "    </tr>\n",
       "    <tr>\n",
       "      <th>2</th>\n",
       "      <td>Affinity Propagation</td>\n",
       "      <td>0.803535</td>\n",
       "      <td>320</td>\n",
       "    </tr>\n",
       "    <tr>\n",
       "      <th>3</th>\n",
       "      <td>Agglomerative Clustering</td>\n",
       "      <td>0.594949</td>\n",
       "      <td>3</td>\n",
       "    </tr>\n",
       "    <tr>\n",
       "      <th>4</th>\n",
       "      <td>Mean Shift</td>\n",
       "      <td>0.573990</td>\n",
       "      <td>1</td>\n",
       "    </tr>\n",
       "  </tbody>\n",
       "</table>\n",
       "</div>"
      ],
      "text/plain": [
       "              Cluster Model    Purity  Nb Cluster\n",
       "0                   K means  0.602525           3\n",
       "1          Gaussian Mixture  0.611364           3\n",
       "2      Affinity Propagation  0.803535         320\n",
       "3  Agglomerative Clustering  0.594949           3\n",
       "4                Mean Shift  0.573990           1"
      ]
     },
     "execution_count": 16,
     "metadata": {},
     "output_type": "execute_result"
    }
   ],
   "source": [
    "tab_clustering"
   ]
  },
  {
   "cell_type": "markdown",
   "metadata": {},
   "source": [
    "<b>Neural networks :</b>\n",
    "Best model is CNN with a max accuracy of 92.893 on the validation dataframe.    \n",
    "We start by an Embedding feature that takes in input the train sentences.    \n",
    "Then we add a 0.2 dropout.    \n",
    "Then a Conv1D layer with a sigmoid as activation function followed by a Pooling layer.    \n",
    "We add a Dense layer followed by a Dropout of 0.4 and finally another Dense layer that will return 3 classes.    \n",
    "\n",
    "We fit and train the model and take the epoch that has the best val_accuracy, not forgetting to check the difference between the train accuracy to avoid overfitting.\n",
    "\n",
    "We tried 6 different models with neural networks (GruCNN, LSTM, CNNGru, CNN, Bidirectionnal-GRU, GRU) and even if the results were close, CNN gave a better score in way less time.\n"
   ]
  },
  {
   "cell_type": "code",
   "execution_count": 17,
   "metadata": {},
   "outputs": [
    {
     "name": "stdout",
     "output_type": "stream",
     "text": [
      "WARNING:tensorflow:From /home/cmi-sid/anaconda3/lib/python3.7/site-packages/tensorflow/python/ops/resource_variable_ops.py:435: colocate_with (from tensorflow.python.framework.ops) is deprecated and will be removed in a future version.\n",
      "Instructions for updating:\n",
      "Colocations handled automatically by placer.\n",
      "Model: \"sequential_1\"\n",
      "_________________________________________________________________\n",
      "Layer (type)                 Output Shape              Param #   \n",
      "=================================================================\n",
      "embedding_1 (Embedding)      (None, 120, 100)          1000000   \n",
      "_________________________________________________________________\n",
      "dropout_1 (Dropout)          (None, 120, 100)          0         \n",
      "_________________________________________________________________\n",
      "conv1d_1 (Conv1D)            (None, 120, 64)           19264     \n",
      "_________________________________________________________________\n",
      "global_max_pooling1d_1 (Glob (None, 64)                0         \n",
      "_________________________________________________________________\n",
      "dense_1 (Dense)              (None, 128)               8320      \n",
      "_________________________________________________________________\n",
      "dropout_2 (Dropout)          (None, 128)               0         \n",
      "_________________________________________________________________\n",
      "dense_2 (Dense)              (None, 3)                 387       \n",
      "=================================================================\n",
      "Total params: 1,027,971\n",
      "Trainable params: 1,027,971\n",
      "Non-trainable params: 0\n",
      "_________________________________________________________________\n",
      "WARNING:tensorflow:From /home/cmi-sid/anaconda3/lib/python3.7/site-packages/tensorflow/python/ops/math_ops.py:3066: to_int32 (from tensorflow.python.ops.math_ops) is deprecated and will be removed in a future version.\n",
      "Instructions for updating:\n",
      "Use tf.cast instead.\n",
      "WARNING:tensorflow:From /home/cmi-sid/anaconda3/lib/python3.7/site-packages/tensorflow/python/ops/math_grad.py:102: div (from tensorflow.python.ops.math_ops) is deprecated and will be removed in a future version.\n",
      "Instructions for updating:\n",
      "Deprecated in favor of operator or tf.math.divide.\n",
      "Train on 3960 samples, validate on 1698 samples\n",
      "Epoch 1/10\n",
      "3960/3960 [==============================] - 3s 876us/step - loss: 0.5407 - accuracy: 0.6800 - val_loss: 0.4728 - val_accuracy: 0.7271\n",
      "Epoch 2/10\n",
      "3960/3960 [==============================] - 2s 613us/step - loss: 0.5064 - accuracy: 0.6915 - val_loss: 0.4596 - val_accuracy: 0.7271\n",
      "Epoch 3/10\n",
      "3960/3960 [==============================] - 2s 585us/step - loss: 0.4731 - accuracy: 0.7226 - val_loss: 0.4137 - val_accuracy: 0.8306\n",
      "Epoch 4/10\n",
      "3960/3960 [==============================] - 2s 584us/step - loss: 0.3772 - accuracy: 0.8268 - val_loss: 0.2982 - val_accuracy: 0.9081\n",
      "Epoch 5/10\n",
      "3960/3960 [==============================] - 2s 584us/step - loss: 0.2514 - accuracy: 0.9100 - val_loss: 0.2310 - val_accuracy: 0.9126\n",
      "Epoch 6/10\n",
      "3960/3960 [==============================] - 2s 583us/step - loss: 0.1869 - accuracy: 0.9327 - val_loss: 0.2181 - val_accuracy: 0.9132\n",
      "Epoch 7/10\n",
      "3960/3960 [==============================] - 2s 583us/step - loss: 0.1628 - accuracy: 0.9430 - val_loss: 0.2187 - val_accuracy: 0.9138\n",
      "Epoch 8/10\n",
      "3960/3960 [==============================] - 2s 587us/step - loss: 0.1382 - accuracy: 0.9501 - val_loss: 0.2259 - val_accuracy: 0.9142\n",
      "Epoch 9/10\n",
      "3960/3960 [==============================] - 2s 583us/step - loss: 0.1211 - accuracy: 0.9598 - val_loss: 0.2334 - val_accuracy: 0.9122\n",
      "Epoch 10/10\n",
      "3960/3960 [==============================] - 2s 587us/step - loss: 0.1071 - accuracy: 0.9641 - val_loss: 0.2420 - val_accuracy: 0.9091\n",
      "8275/8275 [==============================] - 1s 163us/step\n"
     ]
    }
   ],
   "source": [
    "feeling = CNN(X_train_neural_network, y_train_neural_network, X_test_neural_network,\n",
    "    y_test_neural_network, X_pred_neural_network, max_features=10000,\n",
    "    max_words=120, batch_size=128, epochs=10, num_classes=3)"
   ]
  },
  {
   "cell_type": "code",
   "execution_count": 18,
   "metadata": {},
   "outputs": [
    {
     "name": "stdout",
     "output_type": "stream",
     "text": [
      "Model: \"sequential_2\"\n",
      "_________________________________________________________________\n",
      "Layer (type)                 Output Shape              Param #   \n",
      "=================================================================\n",
      "embedding_2 (Embedding)      (None, 120, 100)          1000000   \n",
      "_________________________________________________________________\n",
      "dropout_3 (Dropout)          (None, 120, 100)          0         \n",
      "_________________________________________________________________\n",
      "bidirectional_1 (Bidirection (None, 120, 256)          175872    \n",
      "_________________________________________________________________\n",
      "conv1d_2 (Conv1D)            (None, 120, 32)           24608     \n",
      "_________________________________________________________________\n",
      "global_max_pooling1d_2 (Glob (None, 32)                0         \n",
      "_________________________________________________________________\n",
      "dense_3 (Dense)              (None, 64)                2112      \n",
      "_________________________________________________________________\n",
      "dropout_4 (Dropout)          (None, 64)                0         \n",
      "_________________________________________________________________\n",
      "dense_4 (Dense)              (None, 3)                 195       \n",
      "=================================================================\n",
      "Total params: 1,202,787\n",
      "Trainable params: 1,202,787\n",
      "Non-trainable params: 0\n",
      "_________________________________________________________________\n",
      "Train on 3960 samples, validate on 1698 samples\n",
      "Epoch 1/4\n",
      "3960/3960 [==============================] - 24s 6ms/step - loss: 0.5414 - accuracy: 0.6768 - val_loss: 0.4763 - val_accuracy: 0.7383\n",
      "Epoch 2/4\n",
      "3960/3960 [==============================] - 35s 9ms/step - loss: 0.3997 - accuracy: 0.7975 - val_loss: 0.2395 - val_accuracy: 0.9054\n",
      "Epoch 3/4\n",
      "3960/3960 [==============================] - 25s 6ms/step - loss: 0.2092 - accuracy: 0.9311 - val_loss: 0.2322 - val_accuracy: 0.9115\n",
      "Epoch 4/4\n",
      "3960/3960 [==============================] - 23s 6ms/step - loss: 0.1443 - accuracy: 0.9544 - val_loss: 0.2590 - val_accuracy: 0.9054\n",
      "8275/8275 [==============================] - 15s 2ms/step\n"
     ]
    },
    {
     "data": {
      "text/plain": [
       "0      -1\n",
       "1      -1\n",
       "2       1\n",
       "3      -1\n",
       "4      -1\n",
       "       ..\n",
       "8270   -1\n",
       "8271   -1\n",
       "8272    1\n",
       "8273   -1\n",
       "8274   -1\n",
       "Length: 8275, dtype: int64"
      ]
     },
     "execution_count": 18,
     "metadata": {},
     "output_type": "execute_result"
    }
   ],
   "source": [
    "GruCNN(X_train_neural_network, y_train_neural_network, X_test_neural_network, \n",
    "       y_test_neural_network, X_pred_neural_network, max_features=10000,\n",
    "       max_words=120, batch_size=128, epochs=4, num_classes=3)"
   ]
  },
  {
   "cell_type": "markdown",
   "metadata": {},
   "source": [
    "# Facet research"
   ]
  },
  {
   "cell_type": "markdown",
   "metadata": {},
   "source": [
    "We had to do unsupervised learning to research the facets. This was done by a first step of clustering and then by labelling the clusters in regard to the facets. <br>"
   ]
  },
  {
   "cell_type": "markdown",
   "metadata": {},
   "source": [
    "To perform extern evaluation we also used the annotations given to documents. As mentionned before, we grouped some labels to form new facets. Then we needed to know which facets the document was about. So we replaced values by 1 as they indicated that the document described in a way the facet and we replaced the NaN by 0."
   ]
  },
  {
   "cell_type": "markdown",
   "metadata": {},
   "source": [
    "<b>Modification on facets :</b>\n",
    "<ul>\n",
    "    <li>COMFORT : SEAT, BED, IFE, LAVATORY_SPACE</li>\n",
    "    <li>ATMOSPHERE : TEMPERATURE, HUMIDITY, NOISE</li>\n",
    "    <li>BAGGAGE : LOST_BAGGAGE</li>\n",
    "    <li>NOT_FLIGHT : CHECK_IN, BOARDING, SAV</li>\n",
    "</ul>    \n",
    "\n",
    "<b>Explanation :</b>\n",
    "    \n",
    "<ul>\n",
    "    <li>COMFORT : <br>We considered that the seats, beds, space in the lavatory space and the different entertainments (IFE) contribute to the same need which is comfort. Moreover, the words qualifying them are generally the same. We will thus be able to better highlight a cluster related to this facet.</li>\n",
    "    <li>ATMOSPHERE : <br>We grouped all the element which correspond to the temperature, the humidity and the noise. The element that can disturb the passenger.</li>\n",
    "    <li>BAGGAGE : <br>We modified the name of the facet in a way that it is more understandable.</li>\n",
    "    <li>NOT_FLIGHT : <br>We grouped all the element which aren't in the plane or during the fligh like the check-in phase, the boarding and the SAV.</li>\n",
    "</ul>"
   ]
  },
  {
   "cell_type": "markdown",
   "metadata": {},
   "source": [
    "<b>No Modification :</b>\n",
    "<ul>\n",
    "    <li>FOOD</li>\n",
    "    <li>CABIN_CREW</li>\n",
    "    <li>PRICE</li>\n",
    "    <li>PUNCTUALITY</li>\n",
    "</ul>"
   ]
  },
  {
   "cell_type": "markdown",
   "metadata": {},
   "source": [
    "<b>Facet deleted :</b>\n",
    "<ul>\n",
    "    <li>ATTRACTIVE</li>\n",
    "    <li>GENERAL</li>\n",
    "</ul>\n",
    "\n",
    "<b>Explanation :</b>\n",
    "<ul>\n",
    "    <li>ATTRACTIVE / GENERAL : <br> We deleted these facets because they are simply to general or subjectives.</li>\n",
    "</ul>"
   ]
  },
  {
   "cell_type": "markdown",
   "metadata": {},
   "source": [
    "<b>Facet created :</b>\n",
    "<ul>    \n",
    "    <li>EMPTY</li>\n",
    "</ul>\n",
    "    \n",
    "<b>Explanation :</b>\n",
    "<ul>\n",
    "    <li>EMPTY : <br>We created this facet to group the isolated element which aren't speaking about the different facet. During the clustering phase, this facet correspond to a cluster with entities only for example.</li>\n",
    "</ul>"
   ]
  },
  {
   "cell_type": "markdown",
   "metadata": {},
   "source": [
    "<b>Warning :</b>\n",
    "All our following results must be tempered because with only 0 as prediction, we could have 0.92%. So we konw that we tend to overpredict facets."
   ]
  },
  {
   "cell_type": "markdown",
   "metadata": {},
   "source": [
    "## How we chose the most relevant words for each facet"
   ]
  },
  {
   "cell_type": "code",
   "execution_count": 19,
   "metadata": {},
   "outputs": [
    {
     "name": "stdout",
     "output_type": "stream",
     "text": [
      "Scores for facet baggage :  0.9989662592529713\n"
     ]
    },
    {
     "data": {
      "image/png": "[encoded data removed]",
      "text/plain": [
       "<Figure size 432x288 with 1 Axes>"
      ]
     },
     "metadata": {
      "needs_background": "light"
     },
     "output_type": "display_data"
    }
   ],
   "source": [
    "#To build the following dictionary we used this function and run it on each facet\n",
    "\n",
    "words_facet('ALL_DATA_ANNOTATE', 'baggage')\n",
    "#words_facet('ALL_DATA_ANNOTATE', 'atmosphere')\n",
    "#words_facet('ALL_DATA_ANNOTATE', 'cabin_crew')\n",
    "#words_facet('ALL_DATA_ANNOTATE', 'comfort')\n",
    "#words_facet('ALL_DATA_ANNOTATE', 'food')\n",
    "#words_facet('ALL_DATA_ANNOTATE', 'not_flight')\n",
    "#words_facet('ALL_DATA_ANNOTATE', 'price')\n",
    "#words_facet('ALL_DATA_ANNOTATE', 'punctuality')"
   ]
  },
  {
   "cell_type": "code",
   "execution_count": 20,
   "metadata": {},
   "outputs": [],
   "source": [
    "dict_facets = {\n",
    "    'baggage_facet': ['lose', 'let', 'bag', 'luggage', 'hand', 'people'],\n",
    "    'atmosphere_facet': ['quiet', 'noise', 'calm', 'lounge', 'air'],\n",
    "    'cabin_crew_facet': ['crew', 'cabin', 'helpful', 'professional', 'efficient', 'friendly'],\n",
    "    'comfort_facet': ['seat', 'comfortable', 'legroom', 'room', 'leg', 'space', 'entertainment', 'uncomfortable'],\n",
    "    'food_facet': ['food', 'meal', 'drink', 'snack', 'serve', 'beverage', 'tasty', 'wine', 'eat'],\n",
    "    'not_flight_facet': ['check', 'boarding', 'customer', 'board', 'staff'],\n",
    "    'price_facet': ['price', 'budget', 'cheap', 'cost', 'ticket', 'value', 'pay', 'reasonable'],\n",
    "    'punctuality_facet': ['time', 'delay', 'arrival', 'arrive', 'late', 'schedule', 'departure']\n",
    "}"
   ]
  },
  {
   "cell_type": "markdown",
   "metadata": {},
   "source": [
    "## TF-IDF"
   ]
  },
  {
   "cell_type": "code",
   "execution_count": 21,
   "metadata": {},
   "outputs": [],
   "source": [
    "tf_idf = pd.read_csv('../data/g4_tfidf_ALL_DATA_ANNOTATE.csv', index_col=0)\n",
    "reference_file = pd.read_csv('../data/ALL_DATA_ANNOTATE_new_facets.csv', index_col=0)"
   ]
  },
  {
   "cell_type": "markdown",
   "metadata": {},
   "source": [
    "### Kmeans++"
   ]
  },
  {
   "cell_type": "code",
   "execution_count": 22,
   "metadata": {},
   "outputs": [
    {
     "data": {
      "application/vnd.jupyter.widget-view+json": {
       "model_id": "ac00008e043246f280e40fa4596a267f",
       "version_major": 2,
       "version_minor": 0
      },
      "text/plain": [
       "HBox(children=(IntProgress(value=0, max=10), HTML(value='')))"
      ]
     },
     "metadata": {},
     "output_type": "display_data"
    },
    {
     "name": "stdout",
     "output_type": "stream",
     "text": [
      "\n"
     ]
    },
    {
     "data": {
      "text/plain": [
       "[<matplotlib.lines.Line2D at 0x7f06f37a5d30>]"
      ]
     },
     "execution_count": 22,
     "metadata": {},
     "output_type": "execute_result"
    },
    {
     "data": {
      "image/png": "[encoded data removed]",
      "text/plain": [
       "<Figure size 432x288 with 1 Axes>"
      ]
     },
     "metadata": {
      "needs_background": "light"
     },
     "output_type": "display_data"
    }
   ],
   "source": [
    "nb_clusters = []\n",
    "silhouettes = []\n",
    "for cluster in tqdm_notebook(range(2, 50, 5)):\n",
    "    nb_clusters.append(cluster)\n",
    "    silhouettes.append(silouhette_Kmeans_pp(cluster, tf_idf))\n",
    "    \n",
    "plt.plot(nb_clusters, silhouettes)"
   ]
  },
  {
   "cell_type": "markdown",
   "metadata": {},
   "source": [
    "The silouhette measures the heterogeneity between clusters and thus to choose the right number of clusters.\n",
    "A negative value means that the clusters intersect each other.\n",
    "\n",
    "For this, we can take one of the highest values as an \"optimal\" cluster number."
   ]
  },
  {
   "cell_type": "code",
   "execution_count": 25,
   "metadata": {},
   "outputs": [
    {
     "data": {
      "application/vnd.jupyter.widget-view+json": {
       "model_id": "400c1fd68a6241638c0ea90991279432",
       "version_major": 2,
       "version_minor": 0
      },
      "text/plain": [
       "HBox(children=(IntProgress(value=0, max=10), HTML(value='')))"
      ]
     },
     "metadata": {},
     "output_type": "display_data"
    },
    {
     "name": "stdout",
     "output_type": "stream",
     "text": [
      "\n"
     ]
    },
    {
     "data": {
      "text/plain": [
       "[<matplotlib.lines.Line2D at 0x7f06f36ea518>]"
      ]
     },
     "execution_count": 25,
     "metadata": {},
     "output_type": "execute_result"
    },
    {
     "data": {
      "image/png": "[encoded data removed]",
      "text/plain": [
       "<Figure size 432x288 with 1 Axes>"
      ]
     },
     "metadata": {
      "needs_background": "light"
     },
     "output_type": "display_data"
    }
   ],
   "source": [
    "nb_clusters = []\n",
    "purities = []\n",
    "for cluster in tqdm_notebook(range(2, 50, 5)):\n",
    "    nb_clusters.append(cluster)\n",
    "    purities.append(purity_Kmeans_pp(tf_idf, cluster))\n",
    "    \n",
    "plt.plot(nb_clusters, purities)"
   ]
  },
  {
   "cell_type": "markdown",
   "metadata": {},
   "source": [
    "Cluster purity measures the average homogeneity of clusters : \n",
    "\n",
    "    - For each cluster, we measure the proportion of majority elements in each cluster.\n",
    "        Exp: Compo_Cluster1 = 3R, 7B -> purity = 0.7\n",
    "        \n",
    "    - Then the results are averaged.\n",
    "\n",
    "By crossing the two graphs, we can choose to take 17 clusters: we have a purity close to the maximum observed and a silouhette score among the highest.\n",
    "\n",
    "With the silouhette we also observe that exceeding 20 clusters is not necessarily useful (negative values).\n",
    "\n",
    "Nevertheless the scores are not very high => the clusters have difficulty to differentiate themselves"
   ]
  },
  {
   "cell_type": "code",
   "execution_count": 26,
   "metadata": {},
   "outputs": [],
   "source": [
    "#Prediction with 17 clusters\n",
    "clusters = MiniBatchKMeans(n_clusters=17, random_state=42).fit(tf_idf)"
   ]
  },
  {
   "cell_type": "code",
   "execution_count": 27,
   "metadata": {},
   "outputs": [],
   "source": [
    "centers = one_word_per_cluster(clusters, tf_idf)\n",
    "keywords = get_keyword(centers, 20)\n",
    "keyword_per_cluster = pd.DataFrame(keywords)"
   ]
  },
  {
   "cell_type": "code",
   "execution_count": 28,
   "metadata": {},
   "outputs": [
    {
     "data": {
      "application/vnd.jupyter.widget-view+json": {
       "model_id": "9108dcb2e42644ed8524355da6f38dd7",
       "version_major": 2,
       "version_minor": 0
      },
      "text/plain": [
       "HBox(children=(IntProgress(value=0, max=5803), HTML(value='')))"
      ]
     },
     "metadata": {},
     "output_type": "display_data"
    },
    {
     "name": "stdout",
     "output_type": "stream",
     "text": [
      "\n"
     ]
    }
   ],
   "source": [
    "facets_predictions_kmeans_pp = facet_for_sentence(keyword_per_cluster, tf_idf.index, dict_facets, clusters.labels_, 'kmeans++', 'ALL_DATA_ANNOTATE')"
   ]
  },
  {
   "cell_type": "code",
   "execution_count": 29,
   "metadata": {},
   "outputs": [
    {
     "data": {
      "text/plain": [
       "0.829877266547954"
      ]
     },
     "execution_count": 29,
     "metadata": {},
     "output_type": "execute_result"
    }
   ],
   "source": [
    "reference_file_kmeans_pp = reference_file.loc[facets_predictions_kmeans_pp.index]\n",
    "scores_kmeans_pp = []\n",
    "for i in range(len(facets_predictions_kmeans_pp)):\n",
    "    y_pred = list(facets_predictions_kmeans_pp.iloc[i])\n",
    "    y_true = list(reference_file_kmeans_pp.iloc[i])\n",
    "    scores_kmeans_pp.append(accuracy_score(y_pred, y_true))\n",
    "\n",
    "np.mean(scores_kmeans_pp)"
   ]
  },
  {
   "cell_type": "markdown",
   "metadata": {},
   "source": [
    "There is a rather high accuracy score, this method seems quite relevant for facet discovery."
   ]
  },
  {
   "cell_type": "markdown",
   "metadata": {},
   "source": [
    "### LDA"
   ]
  },
  {
   "cell_type": "code",
   "execution_count": 30,
   "metadata": {},
   "outputs": [
    {
     "data": {
      "application/vnd.jupyter.widget-view+json": {
       "model_id": "6ce525c92ed941c4bc6049be1e54a19f",
       "version_major": 2,
       "version_minor": 0
      },
      "text/plain": [
       "HBox(children=(IntProgress(value=0, max=10), HTML(value='')))"
      ]
     },
     "metadata": {},
     "output_type": "display_data"
    },
    {
     "name": "stdout",
     "output_type": "stream",
     "text": [
      "\n"
     ]
    },
    {
     "data": {
      "text/plain": [
       "[<matplotlib.lines.Line2D at 0x7f06f3602c50>]"
      ]
     },
     "execution_count": 30,
     "metadata": {},
     "output_type": "execute_result"
    },
    {
     "data": {
      "image/png": "[encoded data removed]",
      "text/plain": [
       "<Figure size 432x288 with 1 Axes>"
      ]
     },
     "metadata": {
      "needs_background": "light"
     },
     "output_type": "display_data"
    }
   ],
   "source": [
    "nb_clusters = []\n",
    "silhouettes = []\n",
    "for cluster in tqdm_notebook(range(2, 50, 5)):\n",
    "    nb_clusters.append(cluster)\n",
    "    silhouettes.append(silouhette_LDA(cluster, tf_idf))\n",
    "    \n",
    "plt.plot(nb_clusters, silhouettes)"
   ]
  },
  {
   "cell_type": "markdown",
   "metadata": {},
   "source": [
    "By increasing the cluster number, the value of the silhouette decreases."
   ]
  },
  {
   "cell_type": "code",
   "execution_count": 31,
   "metadata": {},
   "outputs": [
    {
     "data": {
      "application/vnd.jupyter.widget-view+json": {
       "model_id": "9d15204429024827a214147142506969",
       "version_major": 2,
       "version_minor": 0
      },
      "text/plain": [
       "HBox(children=(IntProgress(value=0, max=10), HTML(value='')))"
      ]
     },
     "metadata": {},
     "output_type": "display_data"
    },
    {
     "name": "stdout",
     "output_type": "stream",
     "text": [
      "\n"
     ]
    },
    {
     "data": {
      "text/plain": [
       "[<matplotlib.lines.Line2D at 0x7f06f35e4b70>]"
      ]
     },
     "execution_count": 31,
     "metadata": {},
     "output_type": "execute_result"
    },
    {
     "data": {
      "image/png": "[encoded data removed]",
      "text/plain": [
       "<Figure size 432x288 with 1 Axes>"
      ]
     },
     "metadata": {
      "needs_background": "light"
     },
     "output_type": "display_data"
    }
   ],
   "source": [
    "nb_clusters = []\n",
    "purities = []\n",
    "for cluster in tqdm_notebook(range(2, 50, 5)):\n",
    "    nb_clusters.append(cluster)\n",
    "    purities.append(purity_LDA(tf_idf, cluster))\n",
    "    \n",
    "plt.plot(nb_clusters, purities)"
   ]
  },
  {
   "cell_type": "markdown",
   "metadata": {},
   "source": [
    "7 or 32 clusters appears to be the purity maximizing values for the LDA method."
   ]
  },
  {
   "cell_type": "code",
   "execution_count": 32,
   "metadata": {},
   "outputs": [
    {
     "data": {
      "application/vnd.jupyter.widget-view+json": {
       "model_id": "c1e8be54294b4b3a9345871aa320cc46",
       "version_major": 2,
       "version_minor": 0
      },
      "text/plain": [
       "HBox(children=(IntProgress(value=0, max=5803), HTML(value='')))"
      ]
     },
     "metadata": {},
     "output_type": "display_data"
    },
    {
     "name": "stdout",
     "output_type": "stream",
     "text": [
      "\n"
     ]
    }
   ],
   "source": [
    "#Prediction with 17 clusters\n",
    "top_words, cluster_prediction, facets_predictions_LDA = LDA_tfidf(17, 'ALL_DATA_ANNOTATE', dict_facets)"
   ]
  },
  {
   "cell_type": "code",
   "execution_count": 33,
   "metadata": {},
   "outputs": [
    {
     "data": {
      "text/plain": [
       "0.7568499052214371"
      ]
     },
     "execution_count": 33,
     "metadata": {},
     "output_type": "execute_result"
    }
   ],
   "source": [
    "reference_file_LDA = reference_file.loc[facets_predictions_LDA.index]\n",
    "scores_LDA = []\n",
    "for i in range(len(facets_predictions_LDA)):\n",
    "    y_pred = list(facets_predictions_LDA.iloc[i])\n",
    "    y_true = list(reference_file_LDA.iloc[i])\n",
    "    scores_LDA.append(accuracy_score(y_pred, y_true))\n",
    "\n",
    "np.mean(scores_LDA)"
   ]
  },
  {
   "cell_type": "markdown",
   "metadata": {},
   "source": [
    "The accuracy score is a bit lower than with Kmeans++, this method seems quite relevant for facet discovery."
   ]
  },
  {
   "cell_type": "markdown",
   "metadata": {},
   "source": [
    "### Classification "
   ]
  },
  {
   "cell_type": "code",
   "execution_count": 34,
   "metadata": {},
   "outputs": [
    {
     "name": "stderr",
     "output_type": "stream",
     "text": [
      "/home/cmi-sid/anaconda3/lib/python3.7/site-packages/ipykernel_launcher.py:17: FutureWarning: DataFrame/Series.to_dense is deprecated and will be removed in a future version\n"
     ]
    }
   ],
   "source": [
    "facets_new= ['COMFORT','BAGGAGE','CABIN_CREW','ATMOSPHERE','EMPTY','FOOD','NOT_FLIGHT','PRICE','PUNCTUALITY']\n",
    "dict_cluster=get_dict_cluster(tf_idf, n_clusters=17, n_terms=10)\n",
    "dict_facets_new_ref = create_dict_new_facet(facets_new)\n",
    "comments=pd.read_csv(\"../data/clean_sentences_ALL_DATA_ANNOTATE.csv\",index_col=0)"
   ]
  },
  {
   "cell_type": "code",
   "execution_count": 35,
   "metadata": {},
   "outputs": [],
   "source": [
    "facet_with_classification = df_doc_new_facet(facets_new, comments, dict_facets_new_ref, tf_idf, dict_cluster)"
   ]
  },
  {
   "cell_type": "code",
   "execution_count": 36,
   "metadata": {},
   "outputs": [
    {
     "data": {
      "text/plain": [
       "0.5724242250177112"
      ]
     },
     "execution_count": 36,
     "metadata": {},
     "output_type": "execute_result"
    }
   ],
   "source": [
    "reference_file_classification = reference_file.loc[facet_with_classification.index]\n",
    "scores_classification = []\n",
    "for i in range(len(facet_with_classification)):\n",
    "    y_pred = list(facet_with_classification.iloc[i])\n",
    "    y_true = list(reference_file_classification.iloc[i])\n",
    "    scores_classification.append(accuracy_score(y_pred, y_true))\n",
    "\n",
    "np.mean(scores_classification)"
   ]
  },
  {
   "cell_type": "markdown",
   "metadata": {},
   "source": [
    "This method gives us a lower score because we tend to predict too many facets for each sentence.\n",
    "<br>Our list of synonyms is probably a little too long..."
   ]
  },
  {
   "cell_type": "markdown",
   "metadata": {},
   "source": [
    "### Supervised method (test)"
   ]
  },
  {
   "cell_type": "code",
   "execution_count": 37,
   "metadata": {},
   "outputs": [
    {
     "name": "stdout",
     "output_type": "stream",
     "text": [
      "atmosphere ==> score= 0.9805273134585559\n",
      "baggage ==> score= 0.9989660520420472\n",
      "cabin_crew ==> score= 0.7923142613151153\n",
      "comfort ==> score= 0.6985069562266711\n",
      "empty ==> score= 0.9333554927704836\n",
      "food ==> score= 0.9264363998671538\n",
      "not_flight ==> score= 0.9775933609958506\n",
      "price ==> score= 0.9895435684647302\n",
      "punctuality ==> score= 0.9756582215598609\n"
     ]
    }
   ],
   "source": [
    "list_facets=list(reference_file.columns)\n",
    "for i in range(len(list_facets)):\n",
    "    print(list_facets[i],\"==> score=\",facet_score(tf_idf,list_facets[i],reference_file))"
   ]
  },
  {
   "cell_type": "markdown",
   "metadata": {},
   "source": [
    "It is noticeable that for some facets, supervised learning can give excellent results.<br>\n",
    "But for some other facets, it is more difficult to predict.<br>\n",
    "However, in order to make this method more relevant, it would take a lot of time to annotate more comments."
   ]
  },
  {
   "cell_type": "markdown",
   "metadata": {},
   "source": [
    "## Word Embedding"
   ]
  },
  {
   "cell_type": "markdown",
   "metadata": {},
   "source": [
    "We use the glove.twitter.27B.200d.txt file to create all the files used for word-embedding. It was done in the preprocessing jupyter notebook."
   ]
  },
  {
   "cell_type": "markdown",
   "metadata": {},
   "source": [
    "### Kmeans"
   ]
  },
  {
   "cell_type": "code",
   "execution_count": 38,
   "metadata": {},
   "outputs": [
    {
     "name": "stderr",
     "output_type": "stream",
     "text": [
      "/home/cmi-sid/anaconda3/lib/python3.7/site-packages/IPython/core/interactiveshell.py:2901: DtypeWarning: Columns (1) have mixed types. Specify dtype option on import or set low_memory=False.\n",
      "  if self.run_code(code, result):\n"
     ]
    }
   ],
   "source": [
    "data, index, comments = database_read(\"ALL_DATA_ANNOTATE\")"
   ]
  },
  {
   "cell_type": "code",
   "execution_count": 39,
   "metadata": {},
   "outputs": [
    {
     "data": {
      "application/vnd.jupyter.widget-view+json": {
       "model_id": "ea995e3cc0564e898a0fc068447316f6",
       "version_major": 2,
       "version_minor": 0
      },
      "text/plain": [
       "HBox(children=(IntProgress(value=0, max=10), HTML(value='')))"
      ]
     },
     "metadata": {},
     "output_type": "display_data"
    },
    {
     "name": "stdout",
     "output_type": "stream",
     "text": [
      "\n"
     ]
    },
    {
     "data": {
      "text/plain": [
       "[<matplotlib.lines.Line2D at 0x7f06f35a5be0>]"
      ]
     },
     "execution_count": 39,
     "metadata": {},
     "output_type": "execute_result"
    },
    {
     "data": {
      "image/png": "[encoded data removed]",
      "text/plain": [
       "<Figure size 432x288 with 1 Axes>"
      ]
     },
     "metadata": {
      "needs_background": "light"
     },
     "output_type": "display_data"
    }
   ],
   "source": [
    "nb_clusters = []\n",
    "silhouettes = []\n",
    "for cluster in tqdm_notebook(range(2, 50, 5)):\n",
    "    nb_clusters.append(cluster)\n",
    "    silhouettes.append(silhouette_Kmeans(cluster, data))\n",
    "    \n",
    "plt.plot(nb_clusters, silhouettes)"
   ]
  },
  {
   "cell_type": "markdown",
   "metadata": {},
   "source": [
    "This graph shows us the value of the silhouette as a function of the number of clusters.\n",
    "\n",
    "The silhouette makes it possible to measure whether the clusters are well separated."
   ]
  },
  {
   "cell_type": "code",
   "execution_count": 40,
   "metadata": {
    "scrolled": true
   },
   "outputs": [
    {
     "data": {
      "application/vnd.jupyter.widget-view+json": {
       "model_id": "d82cba50e0654515b82ad14a398de7e4",
       "version_major": 2,
       "version_minor": 0
      },
      "text/plain": [
       "HBox(children=(IntProgress(value=0, max=10), HTML(value='')))"
      ]
     },
     "metadata": {},
     "output_type": "display_data"
    },
    {
     "name": "stdout",
     "output_type": "stream",
     "text": [
      "\n"
     ]
    },
    {
     "data": {
      "text/plain": [
       "[<matplotlib.lines.Line2D at 0x7f06f33f2898>]"
      ]
     },
     "execution_count": 40,
     "metadata": {},
     "output_type": "execute_result"
    },
    {
     "data": {
      "image/png": "[encoded data removed]",
      "text/plain": [
       "<Figure size 432x288 with 1 Axes>"
      ]
     },
     "metadata": {
      "needs_background": "light"
     },
     "output_type": "display_data"
    }
   ],
   "source": [
    "nb_clusters = []\n",
    "purities = []\n",
    "for cluster in tqdm_notebook(range(2, 50, 5)):\n",
    "    nb_clusters.append(cluster)\n",
    "    purities.append(purity_Kmeans(data, cluster, index))\n",
    "    \n",
    "plt.plot(nb_clusters, purities)"
   ]
  },
  {
   "cell_type": "markdown",
   "metadata": {},
   "source": [
    "These graphs show us the purity value as a function of the number of clusters. <br>\n",
    "Purity is a measure of the homogeneity of the clusters.<br>\n",
    "Here, it is better to take 17 clusters. It is the number of clusters that is quite good in purity and silhouette tests."
   ]
  },
  {
   "cell_type": "code",
   "execution_count": 41,
   "metadata": {},
   "outputs": [],
   "source": [
    "#Prediction with 17 clusters\n",
    "matrix, words = cluster_embedding(data, index, comments, 17)"
   ]
  },
  {
   "cell_type": "code",
   "execution_count": 42,
   "metadata": {},
   "outputs": [
    {
     "data": {
      "application/vnd.jupyter.widget-view+json": {
       "model_id": "a1ffb1440277417fa0aebcc2faaf11a7",
       "version_major": 2,
       "version_minor": 0
      },
      "text/plain": [
       "HBox(children=(IntProgress(value=0, max=5582), HTML(value='')))"
      ]
     },
     "metadata": {},
     "output_type": "display_data"
    },
    {
     "name": "stdout",
     "output_type": "stream",
     "text": [
      "\n"
     ]
    }
   ],
   "source": [
    "facets_predictions_kmeans_e = facet_for_sentence(words, index, \n",
    "                                                  dict_facets, list(matrix['cluster']), \n",
    "                                                  'kmeans_e', 'ALL_DATA_ANNOTATE')"
   ]
  },
  {
   "cell_type": "code",
   "execution_count": 43,
   "metadata": {},
   "outputs": [
    {
     "data": {
      "text/plain": [
       "0.749651658107409"
      ]
     },
     "execution_count": 43,
     "metadata": {},
     "output_type": "execute_result"
    }
   ],
   "source": [
    "reference_file_kmeans_e = reference_file.loc[facets_predictions_kmeans_e.index]\n",
    "scores_kmeans_e = []\n",
    "for i in range(len(facets_predictions_kmeans_e)):\n",
    "    y_pred = list(facets_predictions_kmeans_e.iloc[i])\n",
    "    y_true = list(reference_file_kmeans_e.iloc[i])\n",
    "    scores_kmeans_e.append(accuracy_score(y_pred, y_true))\n",
    "\n",
    "np.mean(scores_kmeans_e)"
   ]
  },
  {
   "cell_type": "markdown",
   "metadata": {},
   "source": [
    "It can be noted that using word embedding instead of TF-IDF does not improve the results."
   ]
  },
  {
   "cell_type": "markdown",
   "metadata": {},
   "source": [
    "## Weighted Word Embedding"
   ]
  },
  {
   "cell_type": "markdown",
   "metadata": {},
   "source": [
    "We weighted the Embeddings with the tf idf. "
   ]
  },
  {
   "cell_type": "code",
   "execution_count": 44,
   "metadata": {},
   "outputs": [
    {
     "name": "stderr",
     "output_type": "stream",
     "text": [
      "/home/cmi-sid/anaconda3/lib/python3.7/site-packages/IPython/core/interactiveshell.py:2901: DtypeWarning: Columns (1) have mixed types. Specify dtype option on import or set low_memory=False.\n",
      "  if self.run_code(code, result):\n"
     ]
    }
   ],
   "source": [
    "data, index, comments = database_read(\"ALL_DATA_ANNOTATE\", weighted=True)"
   ]
  },
  {
   "cell_type": "code",
   "execution_count": 45,
   "metadata": {},
   "outputs": [
    {
     "data": {
      "application/vnd.jupyter.widget-view+json": {
       "model_id": "26bde460f73f4923816028b73149f30d",
       "version_major": 2,
       "version_minor": 0
      },
      "text/plain": [
       "HBox(children=(IntProgress(value=0, max=10), HTML(value='')))"
      ]
     },
     "metadata": {},
     "output_type": "display_data"
    },
    {
     "name": "stdout",
     "output_type": "stream",
     "text": [
      "\n"
     ]
    },
    {
     "data": {
      "text/plain": [
       "[<matplotlib.lines.Line2D at 0x7f06f30b7438>]"
      ]
     },
     "execution_count": 45,
     "metadata": {},
     "output_type": "execute_result"
    },
    {
     "data": {
      "image/png": "[encoded data removed]",
      "text/plain": [
       "<Figure size 432x288 with 1 Axes>"
      ]
     },
     "metadata": {
      "needs_background": "light"
     },
     "output_type": "display_data"
    }
   ],
   "source": [
    "nb_clusters = []\n",
    "silhouettes = []\n",
    "for cluster in tqdm_notebook(range(2, 50, 5)):\n",
    "    nb_clusters.append(cluster)\n",
    "    silhouettes.append(silhouette_Kmeans(cluster, data))\n",
    "    \n",
    "plt.plot(nb_clusters, silhouettes)"
   ]
  },
  {
   "cell_type": "markdown",
   "metadata": {},
   "source": [
    "The closer the coordinates of the documents of each cluster are to the centre of gravity of each cluster, the more relevant the silhouette will be\n",
    "\n",
    " If two clusters are too close to each other the silhouette may be skewed\n",
    " The silhouette coefficient contrasts the average distance to elements in the same cluster with the average distance to elements in other clusters. Objects with a high silhouette value are considered well clustered, objects with a low value may be outliers. This index works well with k-means clustering, and is also used to determine the optimal number of clusters.\n",
    "\n",
    " The silhouette can be calculated with any distance metric, such as the Euclidean distance or the Manhattan distance.\n",
    "\n",
    "\n",
    "\n",
    "\n",
    "\n"
   ]
  },
  {
   "cell_type": "code",
   "execution_count": 46,
   "metadata": {
    "scrolled": true
   },
   "outputs": [
    {
     "data": {
      "application/vnd.jupyter.widget-view+json": {
       "model_id": "d3ea43f63e8043198bbe7fc18346ce52",
       "version_major": 2,
       "version_minor": 0
      },
      "text/plain": [
       "HBox(children=(IntProgress(value=0, max=10), HTML(value='')))"
      ]
     },
     "metadata": {},
     "output_type": "display_data"
    },
    {
     "name": "stdout",
     "output_type": "stream",
     "text": [
      "\n"
     ]
    },
    {
     "data": {
      "text/plain": [
       "[<matplotlib.lines.Line2D at 0x7f06f30f1c18>]"
      ]
     },
     "execution_count": 46,
     "metadata": {},
     "output_type": "execute_result"
    },
    {
     "data": {
      "image/png": "[encoded data removed]",
      "text/plain": [
       "<Figure size 432x288 with 1 Axes>"
      ]
     },
     "metadata": {
      "needs_background": "light"
     },
     "output_type": "display_data"
    }
   ],
   "source": [
    "nb_clusters = []\n",
    "purities = []\n",
    "for cluster in tqdm_notebook(range(2, 50, 5)):\n",
    "    nb_clusters.append(cluster)\n",
    "    purities.append(purity_Kmeans(data, cluster, index))\n",
    "    \n",
    "plt.plot(nb_clusters, purities)"
   ]
  },
  {
   "cell_type": "markdown",
   "metadata": {},
   "source": [
    "The purity defines the rate of comments belonging to the dominant label weighted for each cluster. \n",
    "\n",
    "Purity looks at the dominant label of each cluster and calculates the proportion of comments belonging to a label compared to the number of comments in that cluster\n",
    "\n",
    "For each cluster we count the number of documents from the most common class in said cluster and we divide the sum by the total number of reviews <br>\n",
    "High purity is easy to achieve when the number of clusters is large - in particular, purity is 1 if each document gets its own cluster. Thus, we cannot use purity to trade off the quality of the clustering against the number of clusters.<br>"
   ]
  },
  {
   "cell_type": "code",
   "execution_count": 47,
   "metadata": {},
   "outputs": [],
   "source": [
    "#Prediction with 17 clusters\n",
    "matrix, words = cluster_embedding(data, index, comments, 17)"
   ]
  },
  {
   "cell_type": "code",
   "execution_count": 48,
   "metadata": {},
   "outputs": [
    {
     "data": {
      "application/vnd.jupyter.widget-view+json": {
       "model_id": "b6b4691b3a7f429799c557c13f35f966",
       "version_major": 2,
       "version_minor": 0
      },
      "text/plain": [
       "HBox(children=(IntProgress(value=0, max=5532), HTML(value='')))"
      ]
     },
     "metadata": {},
     "output_type": "display_data"
    },
    {
     "name": "stdout",
     "output_type": "stream",
     "text": [
      "\n"
     ]
    }
   ],
   "source": [
    "facets_predictions_kmeans_we = facet_for_sentence(words, list(matrix['index']), \n",
    "                                                  dict_facets, list(matrix['cluster']), \n",
    "                                                  'kmeans_we', 'ALL_DATA_ANNOTATE')"
   ]
  },
  {
   "cell_type": "code",
   "execution_count": 49,
   "metadata": {},
   "outputs": [
    {
     "data": {
      "text/plain": [
       "0.7707479713987307"
      ]
     },
     "execution_count": 49,
     "metadata": {},
     "output_type": "execute_result"
    }
   ],
   "source": [
    "reference_file_kmeans_we = reference_file.loc[facets_predictions_kmeans_we.index]\n",
    "scores_kmeans_we = []\n",
    "for i in range(len(facets_predictions_kmeans_we)):\n",
    "    y_pred = list(facets_predictions_kmeans_we.iloc[i])\n",
    "    y_true = list(reference_file_kmeans_we.iloc[i])\n",
    "    scores_kmeans_we.append(accuracy_score(y_pred, y_true))\n",
    "\n",
    "np.mean(scores_kmeans_we)"
   ]
  },
  {
   "cell_type": "markdown",
   "metadata": {},
   "source": [
    "Note that using TF-IDF-weighted word embedding does not improve the results."
   ]
  },
  {
   "cell_type": "markdown",
   "metadata": {},
   "source": [
    "We used different types of preprocessing to find the facets. Apparently the tf-idf gives the best results with the kmeans ++ method."
   ]
  },
  {
   "cell_type": "markdown",
   "metadata": {},
   "source": [
    "# Prediction of opinion per facet"
   ]
  },
  {
   "cell_type": "markdown",
   "metadata": {},
   "source": [
    "To predict an opinion per facet we decided to cut the review into sentences. We decided to proceed as such because we thought that there would be only one facet per sentence. This hypothesis was confirmed on ALL_DATA_ANNOTATE where the annotation has been made on the sentences. We have found that on average there is 1.14 facet per sentence. So if we predict facets and opinions for sentences we can assume that the opinion well describes the facet found."
   ]
  },
  {
   "cell_type": "code",
   "execution_count": 50,
   "metadata": {},
   "outputs": [
    {
     "data": {
      "application/vnd.jupyter.widget-view+json": {
       "model_id": "c917f182c1594f2594324b663b1149bb",
       "version_major": 2,
       "version_minor": 0
      },
      "text/plain": [
       "HBox(children=(IntProgress(value=0, max=8211), HTML(value='')))"
      ]
     },
     "metadata": {},
     "output_type": "display_data"
    },
    {
     "name": "stdout",
     "output_type": "stream",
     "text": [
      "\n"
     ]
    }
   ],
   "source": [
    "tf_idf = pd.read_csv('../data/g4_tfidf_airline_qual_sentence_1000.csv', index_col=0)\n",
    "top_words, cluster_prediction, facets_predictions_LDA = LDA_tfidf(17, 'airline_qual_sentence_1000', dict_facets)"
   ]
  },
  {
   "cell_type": "code",
   "execution_count": 51,
   "metadata": {
    "scrolled": false
   },
   "outputs": [],
   "source": [
    "facets_predictions_LDA.replace(0, np.nan, inplace=True)"
   ]
  },
  {
   "cell_type": "code",
   "execution_count": 52,
   "metadata": {},
   "outputs": [],
   "source": [
    "index_neural_network = pd.read_csv('../data/index_X_pred_neural_network.csv', index_col = 0, sep = ',')"
   ]
  },
  {
   "cell_type": "code",
   "execution_count": 54,
   "metadata": {},
   "outputs": [],
   "source": [
    "index = set(facets_predictions_LDA.index) & set(index_neural_network['0'])"
   ]
  },
  {
   "cell_type": "code",
   "execution_count": 55,
   "metadata": {},
   "outputs": [],
   "source": [
    "index_neural_network.drop(index_neural_network[index_neural_network['0'].isin(\n",
    "    set(index_neural_network['0']) - index)].index, axis=0, inplace=True)"
   ]
  },
  {
   "cell_type": "code",
   "execution_count": 57,
   "metadata": {},
   "outputs": [],
   "source": [
    "facets_predictions_LDA = facets_predictions_LDA.loc[index]\n",
    "feeling = feeling.loc[index_neural_network.index]"
   ]
  },
  {
   "cell_type": "code",
   "execution_count": 61,
   "metadata": {},
   "outputs": [],
   "source": [
    "result = facets_predictions_LDA.mul(feeling.values, axis=0)"
   ]
  },
  {
   "cell_type": "code",
   "execution_count": 62,
   "metadata": {},
   "outputs": [],
   "source": [
    "result.to_csv('first_1000_rows_prediction_V1.csv', sep =',')"
   ]
  },
  {
   "cell_type": "code",
   "execution_count": 64,
   "metadata": {},
   "outputs": [
    {
     "data": {
      "text/html": [
       "<div>\n",
       "<style scoped>\n",
       "    .dataframe tbody tr th:only-of-type {\n",
       "        vertical-align: middle;\n",
       "    }\n",
       "\n",
       "    .dataframe tbody tr th {\n",
       "        vertical-align: top;\n",
       "    }\n",
       "\n",
       "    .dataframe thead tr th {\n",
       "        text-align: left;\n",
       "    }\n",
       "</style>\n",
       "<table border=\"1\" class=\"dataframe\">\n",
       "  <thead>\n",
       "    <tr>\n",
       "      <th></th>\n",
       "      <th>atmosphere</th>\n",
       "      <th>baggage</th>\n",
       "      <th>cabin_crew</th>\n",
       "      <th>comfort</th>\n",
       "      <th>empty</th>\n",
       "      <th>food</th>\n",
       "      <th>not_flight</th>\n",
       "      <th>price</th>\n",
       "      <th>punctuality</th>\n",
       "    </tr>\n",
       "  </thead>\n",
       "  <tbody>\n",
       "    <tr>\n",
       "      <th>0</th>\n",
       "      <td>NaN</td>\n",
       "      <td>NaN</td>\n",
       "      <td>NaN</td>\n",
       "      <td>NaN</td>\n",
       "      <td>1.0</td>\n",
       "      <td>NaN</td>\n",
       "      <td>NaN</td>\n",
       "      <td>NaN</td>\n",
       "      <td>NaN</td>\n",
       "    </tr>\n",
       "    <tr>\n",
       "      <th>1</th>\n",
       "      <td>NaN</td>\n",
       "      <td>NaN</td>\n",
       "      <td>NaN</td>\n",
       "      <td>NaN</td>\n",
       "      <td>-1.0</td>\n",
       "      <td>NaN</td>\n",
       "      <td>NaN</td>\n",
       "      <td>NaN</td>\n",
       "      <td>NaN</td>\n",
       "    </tr>\n",
       "    <tr>\n",
       "      <th>2</th>\n",
       "      <td>NaN</td>\n",
       "      <td>NaN</td>\n",
       "      <td>NaN</td>\n",
       "      <td>NaN</td>\n",
       "      <td>NaN</td>\n",
       "      <td>1.0</td>\n",
       "      <td>NaN</td>\n",
       "      <td>NaN</td>\n",
       "      <td>NaN</td>\n",
       "    </tr>\n",
       "    <tr>\n",
       "      <th>3</th>\n",
       "      <td>NaN</td>\n",
       "      <td>-1.0</td>\n",
       "      <td>NaN</td>\n",
       "      <td>NaN</td>\n",
       "      <td>NaN</td>\n",
       "      <td>NaN</td>\n",
       "      <td>NaN</td>\n",
       "      <td>NaN</td>\n",
       "      <td>NaN</td>\n",
       "    </tr>\n",
       "    <tr>\n",
       "      <th>4</th>\n",
       "      <td>NaN</td>\n",
       "      <td>NaN</td>\n",
       "      <td>NaN</td>\n",
       "      <td>NaN</td>\n",
       "      <td>-1.0</td>\n",
       "      <td>NaN</td>\n",
       "      <td>NaN</td>\n",
       "      <td>NaN</td>\n",
       "      <td>NaN</td>\n",
       "    </tr>\n",
       "    <tr>\n",
       "      <th>...</th>\n",
       "      <td>...</td>\n",
       "      <td>...</td>\n",
       "      <td>...</td>\n",
       "      <td>...</td>\n",
       "      <td>...</td>\n",
       "      <td>...</td>\n",
       "      <td>...</td>\n",
       "      <td>...</td>\n",
       "      <td>...</td>\n",
       "    </tr>\n",
       "    <tr>\n",
       "      <th>8270</th>\n",
       "      <td>NaN</td>\n",
       "      <td>NaN</td>\n",
       "      <td>NaN</td>\n",
       "      <td>NaN</td>\n",
       "      <td>-1.0</td>\n",
       "      <td>NaN</td>\n",
       "      <td>NaN</td>\n",
       "      <td>NaN</td>\n",
       "      <td>NaN</td>\n",
       "    </tr>\n",
       "    <tr>\n",
       "      <th>8271</th>\n",
       "      <td>NaN</td>\n",
       "      <td>NaN</td>\n",
       "      <td>NaN</td>\n",
       "      <td>NaN</td>\n",
       "      <td>-1.0</td>\n",
       "      <td>NaN</td>\n",
       "      <td>NaN</td>\n",
       "      <td>NaN</td>\n",
       "      <td>NaN</td>\n",
       "    </tr>\n",
       "    <tr>\n",
       "      <th>8272</th>\n",
       "      <td>NaN</td>\n",
       "      <td>NaN</td>\n",
       "      <td>NaN</td>\n",
       "      <td>NaN</td>\n",
       "      <td>1.0</td>\n",
       "      <td>NaN</td>\n",
       "      <td>NaN</td>\n",
       "      <td>NaN</td>\n",
       "      <td>NaN</td>\n",
       "    </tr>\n",
       "    <tr>\n",
       "      <th>8273</th>\n",
       "      <td>NaN</td>\n",
       "      <td>NaN</td>\n",
       "      <td>NaN</td>\n",
       "      <td>NaN</td>\n",
       "      <td>-1.0</td>\n",
       "      <td>NaN</td>\n",
       "      <td>NaN</td>\n",
       "      <td>NaN</td>\n",
       "      <td>NaN</td>\n",
       "    </tr>\n",
       "    <tr>\n",
       "      <th>8274</th>\n",
       "      <td>NaN</td>\n",
       "      <td>-1.0</td>\n",
       "      <td>NaN</td>\n",
       "      <td>-1.0</td>\n",
       "      <td>NaN</td>\n",
       "      <td>NaN</td>\n",
       "      <td>NaN</td>\n",
       "      <td>NaN</td>\n",
       "      <td>NaN</td>\n",
       "    </tr>\n",
       "  </tbody>\n",
       "</table>\n",
       "<p>8211 rows × 9 columns</p>\n",
       "</div>"
      ],
      "text/plain": [
       "     atmosphere baggage cabin_crew comfort empty food not_flight price  \\\n",
       "0           NaN     NaN        NaN     NaN   1.0  NaN        NaN   NaN   \n",
       "1           NaN     NaN        NaN     NaN  -1.0  NaN        NaN   NaN   \n",
       "2           NaN     NaN        NaN     NaN   NaN  1.0        NaN   NaN   \n",
       "3           NaN    -1.0        NaN     NaN   NaN  NaN        NaN   NaN   \n",
       "4           NaN     NaN        NaN     NaN  -1.0  NaN        NaN   NaN   \n",
       "...         ...     ...        ...     ...   ...  ...        ...   ...   \n",
       "8270        NaN     NaN        NaN     NaN  -1.0  NaN        NaN   NaN   \n",
       "8271        NaN     NaN        NaN     NaN  -1.0  NaN        NaN   NaN   \n",
       "8272        NaN     NaN        NaN     NaN   1.0  NaN        NaN   NaN   \n",
       "8273        NaN     NaN        NaN     NaN  -1.0  NaN        NaN   NaN   \n",
       "8274        NaN    -1.0        NaN    -1.0   NaN  NaN        NaN   NaN   \n",
       "\n",
       "     punctuality  \n",
       "0            NaN  \n",
       "1            NaN  \n",
       "2            NaN  \n",
       "3            NaN  \n",
       "4            NaN  \n",
       "...          ...  \n",
       "8270         NaN  \n",
       "8271         NaN  \n",
       "8272         NaN  \n",
       "8273         NaN  \n",
       "8274         NaN  \n",
       "\n",
       "[8211 rows x 9 columns]"
      ]
     },
     "execution_count": 64,
     "metadata": {},
     "output_type": "execute_result"
    }
   ],
   "source": [
    "result"
   ]
  },
  {
   "cell_type": "markdown",
   "metadata": {},
   "source": [
    "# Named entity research"
   ]
  },
  {
   "cell_type": "markdown",
   "metadata": {},
   "source": [
    "As an additionnal task, we had to perform a named entity research (NER). We wrote a script that is fast on large dataset but maybe not very precise. We used a spacy NER algorithm and csv files to focus on Airport, Aircraft, Airlines, Cities and Countries. We did it by :\n",
    "<ul>\n",
    "    <li>finding entities with Spacy</li>\n",
    "    <li>look up in the csv files if it was interesting for us to keep it</li>\n",
    "</ul>\n",
    "This method is really fast, it could perform on the 150000 rows of ALL_DATA in less than an hour.<br>\n",
    "We put our code in the annex file."
   ]
  },
  {
   "cell_type": "code",
   "execution_count": 65,
   "metadata": {},
   "outputs": [
    {
     "data": {
      "text/html": [
       "<div>\n",
       "<style scoped>\n",
       "    .dataframe tbody tr th:only-of-type {\n",
       "        vertical-align: middle;\n",
       "    }\n",
       "\n",
       "    .dataframe tbody tr th {\n",
       "        vertical-align: top;\n",
       "    }\n",
       "\n",
       "    .dataframe thead th {\n",
       "        text-align: right;\n",
       "    }\n",
       "</style>\n",
       "<table border=\"1\" class=\"dataframe\">\n",
       "  <thead>\n",
       "    <tr style=\"text-align: right;\">\n",
       "      <th></th>\n",
       "      <th>airport</th>\n",
       "      <th>city</th>\n",
       "      <th>country</th>\n",
       "      <th>aircraft</th>\n",
       "      <th>airlines</th>\n",
       "    </tr>\n",
       "  </thead>\n",
       "  <tbody>\n",
       "    <tr>\n",
       "      <th>0</th>\n",
       "      <td>[]</td>\n",
       "      <td>[]</td>\n",
       "      <td>['Comoros']</td>\n",
       "      <td>[]</td>\n",
       "      <td>[]</td>\n",
       "    </tr>\n",
       "    <tr>\n",
       "      <th>1</th>\n",
       "      <td>[]</td>\n",
       "      <td>[]</td>\n",
       "      <td>['Comoros']</td>\n",
       "      <td>['LAN']</td>\n",
       "      <td>[]</td>\n",
       "    </tr>\n",
       "    <tr>\n",
       "      <th>2</th>\n",
       "      <td>[]</td>\n",
       "      <td>[]</td>\n",
       "      <td>[]</td>\n",
       "      <td>[]</td>\n",
       "      <td>[]</td>\n",
       "    </tr>\n",
       "    <tr>\n",
       "      <th>3</th>\n",
       "      <td>[]</td>\n",
       "      <td>[]</td>\n",
       "      <td>[]</td>\n",
       "      <td>['Lufthansa', 'lufthansa']</td>\n",
       "      <td>[]</td>\n",
       "    </tr>\n",
       "    <tr>\n",
       "      <th>4</th>\n",
       "      <td>[]</td>\n",
       "      <td>['Zagreb']</td>\n",
       "      <td>[]</td>\n",
       "      <td>['ana']</td>\n",
       "      <td>[]</td>\n",
       "    </tr>\n",
       "    <tr>\n",
       "      <th>...</th>\n",
       "      <td>...</td>\n",
       "      <td>...</td>\n",
       "      <td>...</td>\n",
       "      <td>...</td>\n",
       "      <td>...</td>\n",
       "    </tr>\n",
       "    <tr>\n",
       "      <th>150448</th>\n",
       "      <td>[]</td>\n",
       "      <td>[]</td>\n",
       "      <td>[]</td>\n",
       "      <td>[]</td>\n",
       "      <td>[]</td>\n",
       "    </tr>\n",
       "    <tr>\n",
       "      <th>150449</th>\n",
       "      <td>[]</td>\n",
       "      <td>[]</td>\n",
       "      <td>[]</td>\n",
       "      <td>[]</td>\n",
       "      <td>[]</td>\n",
       "    </tr>\n",
       "    <tr>\n",
       "      <th>150450</th>\n",
       "      <td>[]</td>\n",
       "      <td>[]</td>\n",
       "      <td>[]</td>\n",
       "      <td>[]</td>\n",
       "      <td>[]</td>\n",
       "    </tr>\n",
       "    <tr>\n",
       "      <th>150451</th>\n",
       "      <td>[]</td>\n",
       "      <td>[]</td>\n",
       "      <td>[]</td>\n",
       "      <td>[]</td>\n",
       "      <td>[]</td>\n",
       "    </tr>\n",
       "    <tr>\n",
       "      <th>150452</th>\n",
       "      <td>[]</td>\n",
       "      <td>[]</td>\n",
       "      <td>[]</td>\n",
       "      <td>[]</td>\n",
       "      <td>[]</td>\n",
       "    </tr>\n",
       "  </tbody>\n",
       "</table>\n",
       "<p>150453 rows × 5 columns</p>\n",
       "</div>"
      ],
      "text/plain": [
       "       airport        city      country                    aircraft airlines\n",
       "0           []          []  ['Comoros']                          []       []\n",
       "1           []          []  ['Comoros']                     ['LAN']       []\n",
       "2           []          []           []                          []       []\n",
       "3           []          []           []  ['Lufthansa', 'lufthansa']       []\n",
       "4           []  ['Zagreb']           []                     ['ana']       []\n",
       "...        ...         ...          ...                         ...      ...\n",
       "150448      []          []           []                          []       []\n",
       "150449      []          []           []                          []       []\n",
       "150450      []          []           []                          []       []\n",
       "150451      []          []           []                          []       []\n",
       "150452      []          []           []                          []       []\n",
       "\n",
       "[150453 rows x 5 columns]"
      ]
     },
     "execution_count": 65,
     "metadata": {},
     "output_type": "execute_result"
    }
   ],
   "source": [
    "named_entities = pd.read_csv('../data/entite_v1.csv', index_col = 0, sep = ',')\n",
    "named_entities"
   ]
  },
  {
   "cell_type": "markdown",
   "metadata": {},
   "source": [
    "# Ideas of development"
   ]
  },
  {
   "cell_type": "markdown",
   "metadata": {},
   "source": [
    "## Preprocessing"
   ]
  },
  {
   "cell_type": "markdown",
   "metadata": {},
   "source": [
    "We only used documents in english we could have used a translate tool to supplement our corpora. <br>\n",
    "For the tf-idf, we could have use the NER to clean better the vocabulary. If we delete the named entity of the vaocabulary, we may reduce noise for the tasks as they are not related to any of them, ie we don't have any facet about locations. <br>\n",
    "The embedding used was from Glove learned on Twitter with 200 dimensions. But we could have used corpus learned on Wikipedia instead that may be more neutral. Because Twitter is a social network things are not presented impartial and this may biased the algorithms trained on it."
   ]
  },
  {
   "cell_type": "markdown",
   "metadata": {},
   "source": [
    "## Opinion analysis"
   ]
  },
  {
   "cell_type": "markdown",
   "metadata": {},
   "source": [
    "For the Opinion Analysis, there are still ways to improve, especially with unsupervised methods. We tried only the most simple algorithms.<br>\n",
    "We didn't properly use the embeddings on this task because the only attempt wasn't well conducted. We tried with the vocabulary calculated by the facet group and only in dimension 50. With a vocabulary computed on rawer data and an embedding in dimension 200 the results in supervised and unsupervised methods will surely improve. With the deep learning we had better results it may be linked to the representation used by the models."
   ]
  },
  {
   "cell_type": "markdown",
   "metadata": {},
   "source": [
    "## Named entity research"
   ]
  },
  {
   "cell_type": "markdown",
   "metadata": {},
   "source": [
    "For the NER, we kept things simple, so there are lots of way to improve this part.<br>\n",
    "The group 9 Innovation told us about a way to generate sentences annotate. We could use this to generate sentences with a the labels that we want such as 'Airport', etc. And with those annotated data we could then train a Model of NER, spacy offers this kind of features.<br>\n",
    "We could have use the Bert model of spacy to look for entities that is said to be more effective.<br>\n"
   ]
  },
  {
   "cell_type": "markdown",
   "metadata": {},
   "source": [
    "## Facet research"
   ]
  },
  {
   "cell_type": "markdown",
   "metadata": {},
   "source": [
    "For the Facet Research instead of weighting the embeddings with the tf-idf, it should be done by the idf.<br>\n",
    "We only worked with relativly small dataset maybe with larger dataset such as ALL_DATA, the clusters may be more relevant. We could'nt use larger dataset because of the size of tf-idf matrix in those cases.<br>\n",
    "The annotation of the clusters is still hand made, we tried to develop an automatic solution. We only succeeded at computing a matrix of cosine distance between a defined list of words for each facets and a list of most relevant words for each cluster. So the matrix's shape is (nb_cluster, nb_facet) and each value is the sum of distance between each word in the two lists $ cluster_i $ and $facet_j$. Those distances may be a lead to an automatic version of the labelisation of clusters."
   ]
  },
  {
   "cell_type": "code",
   "execution_count": 67,
   "metadata": {},
   "outputs": [
    {
     "data": {
      "text/html": [
       "<div>\n",
       "<style scoped>\n",
       "    .dataframe tbody tr th:only-of-type {\n",
       "        vertical-align: middle;\n",
       "    }\n",
       "\n",
       "    .dataframe tbody tr th {\n",
       "        vertical-align: top;\n",
       "    }\n",
       "\n",
       "    .dataframe thead th {\n",
       "        text-align: right;\n",
       "    }\n",
       "</style>\n",
       "<table border=\"1\" class=\"dataframe\">\n",
       "  <thead>\n",
       "    <tr style=\"text-align: right;\">\n",
       "      <th></th>\n",
       "      <th>baggage_facet</th>\n",
       "      <th>atmosphere_facet</th>\n",
       "      <th>cabin_crew_facet</th>\n",
       "      <th>comfort_facet</th>\n",
       "      <th>food_facet</th>\n",
       "      <th>not_flight_facet</th>\n",
       "      <th>price_facet</th>\n",
       "      <th>punctuality_facet</th>\n",
       "    </tr>\n",
       "  </thead>\n",
       "  <tbody>\n",
       "    <tr>\n",
       "      <th>0</th>\n",
       "      <td>0.272584</td>\n",
       "      <td>0.231035</td>\n",
       "      <td>0.227106</td>\n",
       "      <td>0.220266</td>\n",
       "      <td>0.229641</td>\n",
       "      <td>0.258816</td>\n",
       "      <td>0.253855</td>\n",
       "      <td>0.246155</td>\n",
       "    </tr>\n",
       "    <tr>\n",
       "      <th>1</th>\n",
       "      <td>0.315036</td>\n",
       "      <td>0.260669</td>\n",
       "      <td>0.255588</td>\n",
       "      <td>0.252495</td>\n",
       "      <td>0.341405</td>\n",
       "      <td>0.281470</td>\n",
       "      <td>0.299089</td>\n",
       "      <td>0.261095</td>\n",
       "    </tr>\n",
       "    <tr>\n",
       "      <th>2</th>\n",
       "      <td>0.301293</td>\n",
       "      <td>0.260101</td>\n",
       "      <td>0.240886</td>\n",
       "      <td>0.243827</td>\n",
       "      <td>0.263091</td>\n",
       "      <td>0.279867</td>\n",
       "      <td>0.270354</td>\n",
       "      <td>0.271918</td>\n",
       "    </tr>\n",
       "    <tr>\n",
       "      <th>3</th>\n",
       "      <td>0.248652</td>\n",
       "      <td>0.220094</td>\n",
       "      <td>0.214488</td>\n",
       "      <td>0.211785</td>\n",
       "      <td>0.206515</td>\n",
       "      <td>0.271334</td>\n",
       "      <td>0.260221</td>\n",
       "      <td>0.276804</td>\n",
       "    </tr>\n",
       "    <tr>\n",
       "      <th>4</th>\n",
       "      <td>0.279687</td>\n",
       "      <td>0.247973</td>\n",
       "      <td>0.243469</td>\n",
       "      <td>0.248408</td>\n",
       "      <td>0.236597</td>\n",
       "      <td>0.264581</td>\n",
       "      <td>0.267625</td>\n",
       "      <td>0.253337</td>\n",
       "    </tr>\n",
       "    <tr>\n",
       "      <th>5</th>\n",
       "      <td>0.293560</td>\n",
       "      <td>0.257416</td>\n",
       "      <td>0.260993</td>\n",
       "      <td>0.243807</td>\n",
       "      <td>0.248951</td>\n",
       "      <td>0.275670</td>\n",
       "      <td>0.274681</td>\n",
       "      <td>0.249113</td>\n",
       "    </tr>\n",
       "    <tr>\n",
       "      <th>6</th>\n",
       "      <td>0.281859</td>\n",
       "      <td>0.247431</td>\n",
       "      <td>0.218494</td>\n",
       "      <td>0.249405</td>\n",
       "      <td>0.225824</td>\n",
       "      <td>0.252351</td>\n",
       "      <td>0.248923</td>\n",
       "      <td>0.221773</td>\n",
       "    </tr>\n",
       "    <tr>\n",
       "      <th>7</th>\n",
       "      <td>0.360289</td>\n",
       "      <td>0.285614</td>\n",
       "      <td>0.264260</td>\n",
       "      <td>0.307725</td>\n",
       "      <td>0.307332</td>\n",
       "      <td>0.322660</td>\n",
       "      <td>0.330136</td>\n",
       "      <td>0.292015</td>\n",
       "    </tr>\n",
       "    <tr>\n",
       "      <th>8</th>\n",
       "      <td>0.287845</td>\n",
       "      <td>0.246030</td>\n",
       "      <td>0.228741</td>\n",
       "      <td>0.246734</td>\n",
       "      <td>0.244288</td>\n",
       "      <td>0.266628</td>\n",
       "      <td>0.263996</td>\n",
       "      <td>0.246162</td>\n",
       "    </tr>\n",
       "    <tr>\n",
       "      <th>9</th>\n",
       "      <td>0.348093</td>\n",
       "      <td>0.294119</td>\n",
       "      <td>0.281410</td>\n",
       "      <td>0.290878</td>\n",
       "      <td>0.285757</td>\n",
       "      <td>0.309313</td>\n",
       "      <td>0.313494</td>\n",
       "      <td>0.283273</td>\n",
       "    </tr>\n",
       "    <tr>\n",
       "      <th>10</th>\n",
       "      <td>0.292220</td>\n",
       "      <td>0.255496</td>\n",
       "      <td>0.246568</td>\n",
       "      <td>0.245894</td>\n",
       "      <td>0.244027</td>\n",
       "      <td>0.291172</td>\n",
       "      <td>0.277814</td>\n",
       "      <td>0.271605</td>\n",
       "    </tr>\n",
       "    <tr>\n",
       "      <th>11</th>\n",
       "      <td>0.298728</td>\n",
       "      <td>0.255825</td>\n",
       "      <td>0.249469</td>\n",
       "      <td>0.245657</td>\n",
       "      <td>0.262792</td>\n",
       "      <td>0.293222</td>\n",
       "      <td>0.281983</td>\n",
       "      <td>0.266294</td>\n",
       "    </tr>\n",
       "    <tr>\n",
       "      <th>12</th>\n",
       "      <td>0.276720</td>\n",
       "      <td>0.229413</td>\n",
       "      <td>0.231187</td>\n",
       "      <td>0.238044</td>\n",
       "      <td>0.236538</td>\n",
       "      <td>0.250573</td>\n",
       "      <td>0.262590</td>\n",
       "      <td>0.237442</td>\n",
       "    </tr>\n",
       "    <tr>\n",
       "      <th>13</th>\n",
       "      <td>0.219754</td>\n",
       "      <td>0.204775</td>\n",
       "      <td>0.197223</td>\n",
       "      <td>0.189727</td>\n",
       "      <td>0.199645</td>\n",
       "      <td>0.248002</td>\n",
       "      <td>0.226831</td>\n",
       "      <td>0.257009</td>\n",
       "    </tr>\n",
       "    <tr>\n",
       "      <th>14</th>\n",
       "      <td>0.288131</td>\n",
       "      <td>0.247904</td>\n",
       "      <td>0.255615</td>\n",
       "      <td>0.239142</td>\n",
       "      <td>0.242193</td>\n",
       "      <td>0.276218</td>\n",
       "      <td>0.259874</td>\n",
       "      <td>0.257391</td>\n",
       "    </tr>\n",
       "    <tr>\n",
       "      <th>15</th>\n",
       "      <td>0.298994</td>\n",
       "      <td>0.252657</td>\n",
       "      <td>0.241355</td>\n",
       "      <td>0.243502</td>\n",
       "      <td>0.254087</td>\n",
       "      <td>0.293707</td>\n",
       "      <td>0.270592</td>\n",
       "      <td>0.275407</td>\n",
       "    </tr>\n",
       "    <tr>\n",
       "      <th>16</th>\n",
       "      <td>0.345063</td>\n",
       "      <td>0.273984</td>\n",
       "      <td>0.249837</td>\n",
       "      <td>0.279515</td>\n",
       "      <td>0.282521</td>\n",
       "      <td>0.280857</td>\n",
       "      <td>0.293420</td>\n",
       "      <td>0.265812</td>\n",
       "    </tr>\n",
       "    <tr>\n",
       "      <th>17</th>\n",
       "      <td>0.333456</td>\n",
       "      <td>0.286669</td>\n",
       "      <td>0.299247</td>\n",
       "      <td>0.271343</td>\n",
       "      <td>0.271252</td>\n",
       "      <td>0.349506</td>\n",
       "      <td>0.334208</td>\n",
       "      <td>0.304532</td>\n",
       "    </tr>\n",
       "    <tr>\n",
       "      <th>18</th>\n",
       "      <td>0.313122</td>\n",
       "      <td>0.253168</td>\n",
       "      <td>0.230238</td>\n",
       "      <td>0.238876</td>\n",
       "      <td>0.230799</td>\n",
       "      <td>0.300419</td>\n",
       "      <td>0.286868</td>\n",
       "      <td>0.291653</td>\n",
       "    </tr>\n",
       "    <tr>\n",
       "      <th>19</th>\n",
       "      <td>0.309639</td>\n",
       "      <td>0.272718</td>\n",
       "      <td>0.252327</td>\n",
       "      <td>0.253485</td>\n",
       "      <td>0.253688</td>\n",
       "      <td>0.279810</td>\n",
       "      <td>0.272058</td>\n",
       "      <td>0.263378</td>\n",
       "    </tr>\n",
       "    <tr>\n",
       "      <th>20</th>\n",
       "      <td>0.305139</td>\n",
       "      <td>0.258127</td>\n",
       "      <td>0.247586</td>\n",
       "      <td>0.242445</td>\n",
       "      <td>0.254121</td>\n",
       "      <td>0.286780</td>\n",
       "      <td>0.282732</td>\n",
       "      <td>0.257973</td>\n",
       "    </tr>\n",
       "    <tr>\n",
       "      <th>21</th>\n",
       "      <td>0.269587</td>\n",
       "      <td>0.241526</td>\n",
       "      <td>0.230448</td>\n",
       "      <td>0.227400</td>\n",
       "      <td>0.211199</td>\n",
       "      <td>0.285233</td>\n",
       "      <td>0.281479</td>\n",
       "      <td>0.282503</td>\n",
       "    </tr>\n",
       "    <tr>\n",
       "      <th>22</th>\n",
       "      <td>0.307201</td>\n",
       "      <td>0.263447</td>\n",
       "      <td>0.250529</td>\n",
       "      <td>0.251677</td>\n",
       "      <td>0.258415</td>\n",
       "      <td>0.300759</td>\n",
       "      <td>0.290207</td>\n",
       "      <td>0.288356</td>\n",
       "    </tr>\n",
       "    <tr>\n",
       "      <th>23</th>\n",
       "      <td>0.333041</td>\n",
       "      <td>0.291350</td>\n",
       "      <td>0.257739</td>\n",
       "      <td>0.277930</td>\n",
       "      <td>0.253397</td>\n",
       "      <td>0.280259</td>\n",
       "      <td>0.287310</td>\n",
       "      <td>0.244890</td>\n",
       "    </tr>\n",
       "    <tr>\n",
       "      <th>24</th>\n",
       "      <td>0.347869</td>\n",
       "      <td>0.287193</td>\n",
       "      <td>0.276998</td>\n",
       "      <td>0.271520</td>\n",
       "      <td>0.283655</td>\n",
       "      <td>0.330140</td>\n",
       "      <td>0.394884</td>\n",
       "      <td>0.299443</td>\n",
       "    </tr>\n",
       "  </tbody>\n",
       "</table>\n",
       "</div>"
      ],
      "text/plain": [
       "    baggage_facet  atmosphere_facet  cabin_crew_facet  comfort_facet  \\\n",
       "0        0.272584          0.231035          0.227106       0.220266   \n",
       "1        0.315036          0.260669          0.255588       0.252495   \n",
       "2        0.301293          0.260101          0.240886       0.243827   \n",
       "3        0.248652          0.220094          0.214488       0.211785   \n",
       "4        0.279687          0.247973          0.243469       0.248408   \n",
       "5        0.293560          0.257416          0.260993       0.243807   \n",
       "6        0.281859          0.247431          0.218494       0.249405   \n",
       "7        0.360289          0.285614          0.264260       0.307725   \n",
       "8        0.287845          0.246030          0.228741       0.246734   \n",
       "9        0.348093          0.294119          0.281410       0.290878   \n",
       "10       0.292220          0.255496          0.246568       0.245894   \n",
       "11       0.298728          0.255825          0.249469       0.245657   \n",
       "12       0.276720          0.229413          0.231187       0.238044   \n",
       "13       0.219754          0.204775          0.197223       0.189727   \n",
       "14       0.288131          0.247904          0.255615       0.239142   \n",
       "15       0.298994          0.252657          0.241355       0.243502   \n",
       "16       0.345063          0.273984          0.249837       0.279515   \n",
       "17       0.333456          0.286669          0.299247       0.271343   \n",
       "18       0.313122          0.253168          0.230238       0.238876   \n",
       "19       0.309639          0.272718          0.252327       0.253485   \n",
       "20       0.305139          0.258127          0.247586       0.242445   \n",
       "21       0.269587          0.241526          0.230448       0.227400   \n",
       "22       0.307201          0.263447          0.250529       0.251677   \n",
       "23       0.333041          0.291350          0.257739       0.277930   \n",
       "24       0.347869          0.287193          0.276998       0.271520   \n",
       "\n",
       "    food_facet  not_flight_facet  price_facet  punctuality_facet  \n",
       "0     0.229641          0.258816     0.253855           0.246155  \n",
       "1     0.341405          0.281470     0.299089           0.261095  \n",
       "2     0.263091          0.279867     0.270354           0.271918  \n",
       "3     0.206515          0.271334     0.260221           0.276804  \n",
       "4     0.236597          0.264581     0.267625           0.253337  \n",
       "5     0.248951          0.275670     0.274681           0.249113  \n",
       "6     0.225824          0.252351     0.248923           0.221773  \n",
       "7     0.307332          0.322660     0.330136           0.292015  \n",
       "8     0.244288          0.266628     0.263996           0.246162  \n",
       "9     0.285757          0.309313     0.313494           0.283273  \n",
       "10    0.244027          0.291172     0.277814           0.271605  \n",
       "11    0.262792          0.293222     0.281983           0.266294  \n",
       "12    0.236538          0.250573     0.262590           0.237442  \n",
       "13    0.199645          0.248002     0.226831           0.257009  \n",
       "14    0.242193          0.276218     0.259874           0.257391  \n",
       "15    0.254087          0.293707     0.270592           0.275407  \n",
       "16    0.282521          0.280857     0.293420           0.265812  \n",
       "17    0.271252          0.349506     0.334208           0.304532  \n",
       "18    0.230799          0.300419     0.286868           0.291653  \n",
       "19    0.253688          0.279810     0.272058           0.263378  \n",
       "20    0.254121          0.286780     0.282732           0.257973  \n",
       "21    0.211199          0.285233     0.281479           0.282503  \n",
       "22    0.258415          0.300759     0.290207           0.288356  \n",
       "23    0.253397          0.280259     0.287310           0.244890  \n",
       "24    0.283655          0.330140     0.394884           0.299443  "
      ]
     },
     "execution_count": 67,
     "metadata": {},
     "output_type": "execute_result"
    }
   ],
   "source": [
    "dist_matrix = pd.read_csv('../data/distance_top_word_facet.csv', sep = ',', index_col=0)\n",
    "dist_matrix"
   ]
  },
  {
   "cell_type": "markdown",
   "metadata": {},
   "source": [
    "## Opinion per facet"
   ]
  },
  {
   "cell_type": "markdown",
   "metadata": {},
   "source": [
    "For this task, a well configured Latent Dirichlet Allocation (LDA) may create clusters that are linked to a facet and a opinion directly.<br>\n",
    "We didn't evaluate our solution on ALL_DATA_ANNOTATE with a validation subset for example."
   ]
  }
 ],
 "metadata": {
  "kernelspec": {
   "display_name": "Python 3",
   "language": "python",
   "name": "python3"
  },
  "language_info": {
   "codemirror_mode": {
    "name": "ipython",
    "version": 3
   },
   "file_extension": ".py",
   "mimetype": "text/x-python",
   "name": "python",
   "nbconvert_exporter": "python",
   "pygments_lexer": "ipython3",
   "version": "3.7.0"
  },
  "toc": {
   "base_numbering": 1,
   "nav_menu": {},
   "number_sections": true,
   "sideBar": true,
   "skip_h1_title": false,
   "title_cell": "Table of Contents",
   "title_sidebar": "Contents",
   "toc_cell": true,
   "toc_position": {
    "height": "calc(100% - 180px)",
    "left": "10px",
    "top": "150px",
    "width": "367.4px"
   },
   "toc_section_display": true,
   "toc_window_display": false
  }
 },
 "nbformat": 4,
 "nbformat_minor": 2
}
